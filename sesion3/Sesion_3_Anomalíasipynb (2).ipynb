{
  "nbformat": 4,
  "nbformat_minor": 0,
  "metadata": {
    "colab": {
      "name": "Sesion 3 Anomalíasipynb",
      "provenance": [],
      "collapsed_sections": []
    },
    "kernelspec": {
      "name": "python3",
      "display_name": "Python 3"
    },
    "language_info": {
      "name": "python"
    }
  },
  "cells": [
    {
      "cell_type": "code",
      "metadata": {
        "id": "fOT5AMCz4se1"
      },
      "source": [
        "# VOY EJECUTANDO Y FERNANDO NOS VA EXPLICANDO EL EJEMPLO \n",
        "\n",
        "import numpy as np\n",
        "import pandas as pd\n",
        "import matplotlib.pyplot as plt\n",
        "from sklearn.neighbors import LocalOutlierFactor\n",
        "from sklearn.metrics import confusion_matrix\n",
        "from sklearn import datasets\n",
        "import random\n",
        "from plotnine import ggplot, geom_point, aes, geom_abline"
      ],
      "execution_count": 46,
      "outputs": []
    },
    {
      "cell_type": "code",
      "metadata": {
        "colab": {
          "base_uri": "https://localhost:8080/"
        },
        "id": "oyRsZv4H4vDQ",
        "outputId": "d5bdf32e-8376-4fd4-8b5e-e1c71fc36ee8"
      },
      "source": [
        "np.random.seed(42)\n",
        "# datos de entrenamiento: 2100 numeros aleatorias de distribución normal\n",
        "# con media cero y desviacion estandar 0.3\n",
        "X_inliers = np.random.normal(0, 0.3, 200)\n",
        "# Se convierte a 100 duplas para generar un scatter plot de 2 ejes\n",
        "X_inliers = np.reshape(X_inliers, (-1, 2))\n",
        "# Se concatenan, creando 200 duplas.\n",
        "X_inliers = np.r_[X_inliers + 2, X_inliers - 2]\n",
        "# Generacion de 20 duplas de outliers (10%) de números aleatorios entre -4 y 4\n",
        "X_outliers = np.random.uniform(low=-4, high=4, size=(20, 2))\n",
        "# Se concatenan en la variable X\n",
        "X = np.r_[X_inliers, X_outliers]\n",
        "n_outliers = len(X_outliers)\n",
        "## Crea un arreglo de \"unos\" de la misma longitud que X\n",
        "etiqueta = np.ones(len(X), dtype=int)\n",
        "# Le asigna la etiqueta -1 a los outliers (los 20 ultimos)\n",
        "etiqueta[-n_outliers:] = -1\n",
        "etiqueta"
      ],
      "execution_count": 38,
      "outputs": [
        {
          "output_type": "execute_result",
          "data": {
            "text/plain": [
              "array([ 1,  1,  1,  1,  1,  1,  1,  1,  1,  1,  1,  1,  1,  1,  1,  1,  1,\n",
              "        1,  1,  1,  1,  1,  1,  1,  1,  1,  1,  1,  1,  1,  1,  1,  1,  1,\n",
              "        1,  1,  1,  1,  1,  1,  1,  1,  1,  1,  1,  1,  1,  1,  1,  1,  1,\n",
              "        1,  1,  1,  1,  1,  1,  1,  1,  1,  1,  1,  1,  1,  1,  1,  1,  1,\n",
              "        1,  1,  1,  1,  1,  1,  1,  1,  1,  1,  1,  1,  1,  1,  1,  1,  1,\n",
              "        1,  1,  1,  1,  1,  1,  1,  1,  1,  1,  1,  1,  1,  1,  1,  1,  1,\n",
              "        1,  1,  1,  1,  1,  1,  1,  1,  1,  1,  1,  1,  1,  1,  1,  1,  1,\n",
              "        1,  1,  1,  1,  1,  1,  1,  1,  1,  1,  1,  1,  1,  1,  1,  1,  1,\n",
              "        1,  1,  1,  1,  1,  1,  1,  1,  1,  1,  1,  1,  1,  1,  1,  1,  1,\n",
              "        1,  1,  1,  1,  1,  1,  1,  1,  1,  1,  1,  1,  1,  1,  1,  1,  1,\n",
              "        1,  1,  1,  1,  1,  1,  1,  1,  1,  1,  1,  1,  1,  1,  1,  1,  1,\n",
              "        1,  1,  1,  1,  1,  1,  1,  1,  1,  1,  1,  1,  1, -1, -1, -1, -1,\n",
              "       -1, -1, -1, -1, -1, -1, -1, -1, -1, -1, -1, -1, -1, -1, -1, -1])"
            ]
          },
          "metadata": {
            "tags": []
          },
          "execution_count": 38
        }
      ]
    },
    {
      "cell_type": "code",
      "metadata": {
        "id": "ei9kPrHs44tZ"
      },
      "source": [
        "# ajuste el modelo\n",
        "clf = LocalOutlierFactor(n_neighbors = 20, contamination = 0.1) # esto es para que identifique un 10% de datos outliers\n",
        "# use fit_predict para calcular el número de errores al comparar\n",
        "# con las etiquetas asignadas a la muestra de entrenamiento.\n",
        "y_pred = clf.fit_predict(X)\n",
        "n_errors = (y_pred != etiqueta).sum()\n",
        "X_scores = clf.negative_outlier_factor_ # El valor Local Outlier Factor (en este caso no hay umbral por que busca identificar el 10% de outliers)\n",
        "# np.random.choice(X_scores, 20) # Vea una muestra de \"puntajes\"\n"
      ],
      "execution_count": 45,
      "outputs": []
    },
    {
      "cell_type": "code",
      "metadata": {
        "colab": {
          "base_uri": "https://localhost:8080/",
          "height": 296
        },
        "id": "byfbGt4N5A__",
        "outputId": "6e729acd-843f-4e00-a83f-da30aca5405c"
      },
      "source": [
        "plt.title(\"Local Outlier Factor (LOF)\")\n",
        "plt.scatter(X[:, 0], X[:, 1], color='k', s=3., label='Puntos a evaluar')\n",
        "# los circulos son proporcionales al puntaje de outlier\n",
        "radius = (X_scores.max() - X_scores) / (X_scores.max() - X_scores.min())\n",
        "plt.scatter(X[:, 0], X[:, 1], s=1000 * radius, edgecolors='r',\n",
        "facecolors='none', label='Puntaje como anómalo')\n",
        "plt.axis('tight')\n",
        "plt.ylim((-5, 5))\n",
        "plt.ylim((-5, 5))\n",
        "plt.xlabel(\"Error de predicción: %d\" % (n_errors))\n",
        "legend = plt.legend(loc='upper left')\n",
        "legend.legendHandles[0]._sizes = [10]\n",
        "legend.legendHandles[1]._sizes = [20]\n",
        "plt.show()"
      ],
      "execution_count": 43,
      "outputs": [
        {
          "output_type": "display_data",
          "data": {
            "image/png": "[encoded data removed]",
            "text/plain": [
              "<Figure size 432x288 with 1 Axes>"
            ]
          },
          "metadata": {
            "tags": [],
            "needs_background": "light"
          }
        }
      ]
    },
    {
      "cell_type": "code",
      "metadata": {
        "colab": {
          "base_uri": "https://localhost:8080/"
        },
        "id": "YTuiJjRu5PMT",
        "outputId": "57920f3d-99fa-4fc5-9c02-8ed63bf1fdbf"
      },
      "source": [
        "from sklearn.metrics import confusion_matrix\n",
        "cm = confusion_matrix(etiqueta, y_pred)\n",
        "cm"
      ],
      "execution_count": 44,
      "outputs": [
        {
          "output_type": "execute_result",
          "data": {
            "text/plain": [
              "array([[ 17,   3],\n",
              "       [  5, 195]])"
            ]
          },
          "metadata": {
            "tags": []
          },
          "execution_count": 44
        }
      ]
    },
    {
      "cell_type": "markdown",
      "metadata": {
        "id": "-AHDRQBXPYvE"
      },
      "source": [
        "Sin embargo, en la práctica desafortundamanete no tenemos etiquetas :( \n",
        "Los siguentes ejemplos son sin etiquetas."
      ]
    },
    {
      "cell_type": "code",
      "metadata": {
        "id": "6pQclDYo5Wub"
      },
      "source": [
        "# Ejemplo iris"
      ],
      "execution_count": null,
      "outputs": []
    },
    {
      "cell_type": "code",
      "metadata": {
        "id": "Xh-Ol4XR4y3k"
      },
      "source": [
        "iris = datasets.load_iris()\n",
        "iris_df = pd.DataFrame(iris.data, columns=iris.feature_names)\n",
        "iris_df['target'] = iris['target']\n",
        "iris_df.columns = ['sepal_length', 'sepal_width', 'petal_length',\n",
        "'petal_width', 'species']"
      ],
      "execution_count": 47,
      "outputs": []
    },
    {
      "cell_type": "code",
      "metadata": {
        "colab": {
          "base_uri": "https://localhost:8080/"
        },
        "id": "UQIR_EAa5zsz",
        "outputId": "9abb2ed9-0d3b-4074-9ab5-6073ce195ac4"
      },
      "source": [
        "clf = LocalOutlierFactor(n_neighbors = 5, novelty = False)\n",
        "# use fit_predict para calcular el número de errores al comparar\n",
        "# con las etiquetas asignadas a la muestra de entrenamiento.\n",
        "X = iris_df[['sepal_length', 'sepal_width']]\n",
        "y_pred = clf.fit_predict(X)\n",
        "lof_scores = -1 * clf.negative_outlier_factor_\n",
        "outlier_5 = lof_scores > 2\n",
        "unique, counts = np.unique(outlier_5, return_counts=True)\n",
        "unique, counts\n",
        "lof_scores\n",
        "# np.random.choice(X_scores, 20) # Vea una muestra de \"puntajes\""
      ],
      "execution_count": 49,
      "outputs": [
        {
          "output_type": "execute_result",
          "data": {
            "text/plain": [
              "array([1.04065244, 1.04693845, 0.99666581, 1.09231647, 1.15501532,\n",
              "       1.02705947, 1.11235314, 0.95857864, 1.1936053 , 1.00732885,\n",
              "       1.25108715, 1.37121627, 0.8826962 , 1.20785736, 1.20302214,\n",
              "       1.47956634, 1.02705947, 1.04065244, 1.09518172, 1.11580787,\n",
              "       1.31776622, 1.1789288 , 1.38549431, 1.20393785, 1.37121627,\n",
              "       1.07487954, 0.95857864, 1.14827183, 1.16251649, 0.99666581,\n",
              "       1.03351818, 1.31776622, 1.19492345, 1.09461963, 1.00732885,\n",
              "       1.10977831, 1.33004091, 1.47154987, 1.12651288, 0.91045695,\n",
              "       0.91422713, 1.18568923, 1.0278073 , 0.91422713, 1.11580787,\n",
              "       0.8826962 , 1.11580787, 1.03327614, 1.14784524, 1.1236453 ,\n",
              "       1.04291544, 0.91486101, 0.99356122, 1.12532437, 0.98755528,\n",
              "       1.05686518, 1.03835993, 1.07750527, 1.01327046, 1.62783685,\n",
              "       1.31753232, 1.17028278, 1.32617591, 1.0343497 , 1.031543  ,\n",
              "       0.97511055, 1.08078548, 0.95627191, 1.20829062, 1.07295727,\n",
              "       1.43285892, 0.9776265 , 1.31092784, 0.9776265 , 0.97511055,\n",
              "       1.        , 1.75604377, 1.05308184, 0.97960054, 1.35011859,\n",
              "       1.01731044, 1.01731044, 0.95627191, 1.28083119, 1.39828347,\n",
              "       1.45576846, 0.97511055, 1.06313548, 1.08078548, 1.01731044,\n",
              "       0.92025568, 0.88399225, 1.01106423, 1.04027351, 1.05488014,\n",
              "       1.06936044, 1.08207566, 0.98537869, 1.15549294, 1.05686518,\n",
              "       1.03835993, 0.95627191, 1.41244648, 1.03981138, 0.97387961,\n",
              "       1.05750742, 1.00069745, 1.05173526, 2.11493341, 2.60345804,\n",
              "       1.14119034, 0.98755528, 0.97511055, 1.21031326, 1.04963236,\n",
              "       0.91486101, 0.97387961, 1.83757865, 1.10742262, 1.32617591,\n",
              "       1.01213062, 0.96586039, 1.0997491 , 1.05308184, 1.34534347,\n",
              "       1.42659748, 0.98091837, 0.88399225, 1.        , 1.1845873 ,\n",
              "       1.0630298 , 1.97446684, 1.        , 0.96266583, 1.43867277,\n",
              "       1.0997491 , 1.14771168, 1.04587488, 1.14234156, 0.99356122,\n",
              "       0.97511055, 0.99356122, 0.95627191, 1.03871313, 1.34534347,\n",
              "       1.05308184, 1.31092784, 0.97387961, 1.12976788, 1.17028278])"
            ]
          },
          "metadata": {
            "tags": []
          },
          "execution_count": 49
        }
      ]
    },
    {
      "cell_type": "code",
      "metadata": {
        "colab": {
          "base_uri": "https://localhost:8080/"
        },
        "id": "0f4iMaOO545P",
        "outputId": "36c3c444-298b-42f7-fcaf-99eb9695689a"
      },
      "source": [
        "clf = LocalOutlierFactor(n_neighbors = 15, novelty = False)\n",
        "# use fit_predict para calcular el número de errores al comparar\n",
        "# con las etiquetas asignadas a la muestra de entrenamiento.\n",
        "X = iris_df[['sepal_length', 'sepal_width']]\n",
        "y_pred = clf.fit_predict(X)\n",
        "lof_scores = -1 * clf.negative_outlier_factor_\n",
        "outlier_15 = (lof_scores > 2)+0\n",
        "unique, counts = np.unique(outlier_15, return_counts=True)\n",
        "unique, counts\n",
        "# np.random.choice(X_scores, 20) # Vea una muestra de \"puntajes\"\n",
        "outlier_15"
      ],
      "execution_count": 51,
      "outputs": [
        {
          "output_type": "execute_result",
          "data": {
            "text/plain": [
              "array([0, 0, 0, 0, 0, 0, 0, 0, 0, 0, 0, 0, 0, 0, 0, 0, 0, 0, 0, 0, 0, 0,\n",
              "       0, 0, 0, 0, 0, 0, 0, 0, 0, 0, 0, 0, 0, 0, 0, 0, 0, 0, 0, 0, 0, 0,\n",
              "       0, 0, 0, 0, 0, 0, 0, 0, 0, 0, 0, 0, 0, 0, 0, 0, 0, 0, 0, 0, 0, 0,\n",
              "       0, 0, 0, 0, 0, 0, 0, 0, 0, 0, 0, 0, 0, 0, 0, 0, 0, 0, 0, 0, 0, 0,\n",
              "       0, 0, 0, 0, 0, 0, 0, 0, 0, 0, 0, 0, 0, 0, 0, 0, 0, 0, 0, 0, 0, 0,\n",
              "       0, 0, 0, 0, 0, 0, 0, 1, 1, 0, 0, 0, 0, 0, 0, 0, 0, 0, 0, 0, 0, 1,\n",
              "       0, 0, 0, 0, 0, 0, 0, 0, 0, 0, 0, 0, 0, 0, 0, 0, 0, 0])"
            ]
          },
          "metadata": {
            "tags": []
          },
          "execution_count": 51
        }
      ]
    },
    {
      "cell_type": "code",
      "metadata": {
        "id": "fwQTj2WA5-X4"
      },
      "source": [
        "iris_df['outlier_15'] = outlier_15"
      ],
      "execution_count": 52,
      "outputs": []
    },
    {
      "cell_type": "code",
      "metadata": {
        "colab": {
          "base_uri": "https://localhost:8080/",
          "height": 469
        },
        "id": "TNu_F1_c6Cnz",
        "outputId": "5a0b1cd1-e14d-4d80-f32f-e65958f03894"
      },
      "source": [
        "(ggplot(iris_df, aes('sepal_length', 'sepal_width', color = 'factor(outlier_15)'))\n",
        "+ geom_point())"
      ],
      "execution_count": 53,
      "outputs": [
        {
          "output_type": "display_data",
          "data": {
            "image/png": "[encoded data removed]",
            "text/plain": [
              "<Figure size 640x480 with 1 Axes>"
            ]
          },
          "metadata": {
            "tags": []
          }
        },
        {
          "output_type": "execute_result",
          "data": {
            "text/plain": [
              "<ggplot: (8759328185997)>"
            ]
          },
          "metadata": {
            "tags": []
          },
          "execution_count": 53
        }
      ]
    },
    {
      "cell_type": "markdown",
      "metadata": {
        "id": "0hgljUZg6Kqm"
      },
      "source": [
        "Árboles de decisión"
      ]
    },
    {
      "cell_type": "code",
      "metadata": {
        "id": "ISl1KAxc6N8P"
      },
      "source": [
        "from sklearn.ensemble import IsolationForest\n",
        "import warnings\n",
        "warnings.filterwarnings(\"ignore\")"
      ],
      "execution_count": 15,
      "outputs": []
    },
    {
      "cell_type": "code",
      "metadata": {
        "colab": {
          "base_uri": "https://localhost:8080/",
          "height": 233
        },
        "id": "AX3Xb3E26Rva",
        "outputId": "98fda4f4-c514-4c34-eb36-a160eb5104c5"
      },
      "source": [
        "df = pd.read_csv('medidas_cuerpo2.csv')\n",
        "df.head(6)"
      ],
      "execution_count": 16,
      "outputs": [
        {
          "output_type": "execute_result",
          "data": {
            "text/html": [
              "<div>\n",
              "<style scoped>\n",
              "    .dataframe tbody tr th:only-of-type {\n",
              "        vertical-align: middle;\n",
              "    }\n",
              "\n",
              "    .dataframe tbody tr th {\n",
              "        vertical-align: top;\n",
              "    }\n",
              "\n",
              "    .dataframe thead th {\n",
              "        text-align: right;\n",
              "    }\n",
              "</style>\n",
              "<table border=\"1\" class=\"dataframe\">\n",
              "  <thead>\n",
              "    <tr style=\"text-align: right;\">\n",
              "      <th></th>\n",
              "      <th>ID</th>\n",
              "      <th>Peso</th>\n",
              "      <th>Sexo</th>\n",
              "      <th>Estatura</th>\n",
              "      <th>circun_cuello</th>\n",
              "      <th>circun_muneca</th>\n",
              "    </tr>\n",
              "  </thead>\n",
              "  <tbody>\n",
              "    <tr>\n",
              "      <th>0</th>\n",
              "      <td>1</td>\n",
              "      <td>47.6</td>\n",
              "      <td>F</td>\n",
              "      <td>1.57</td>\n",
              "      <td>29.5</td>\n",
              "      <td>13.9</td>\n",
              "    </tr>\n",
              "    <tr>\n",
              "      <th>1</th>\n",
              "      <td>2</td>\n",
              "      <td>68.1</td>\n",
              "      <td>M</td>\n",
              "      <td>1.66</td>\n",
              "      <td>38.4</td>\n",
              "      <td>16.0</td>\n",
              "    </tr>\n",
              "    <tr>\n",
              "      <th>2</th>\n",
              "      <td>3</td>\n",
              "      <td>68.0</td>\n",
              "      <td>M</td>\n",
              "      <td>1.90</td>\n",
              "      <td>36.5</td>\n",
              "      <td>16.6</td>\n",
              "    </tr>\n",
              "    <tr>\n",
              "      <th>3</th>\n",
              "      <td>4</td>\n",
              "      <td>80.0</td>\n",
              "      <td>M</td>\n",
              "      <td>1.76</td>\n",
              "      <td>38.0</td>\n",
              "      <td>17.1</td>\n",
              "    </tr>\n",
              "    <tr>\n",
              "      <th>4</th>\n",
              "      <td>5</td>\n",
              "      <td>68.1</td>\n",
              "      <td>M</td>\n",
              "      <td>1.83</td>\n",
              "      <td>38.0</td>\n",
              "      <td>17.1</td>\n",
              "    </tr>\n",
              "    <tr>\n",
              "      <th>5</th>\n",
              "      <td>6</td>\n",
              "      <td>56.1</td>\n",
              "      <td>F</td>\n",
              "      <td>1.66</td>\n",
              "      <td>33.0</td>\n",
              "      <td>14.7</td>\n",
              "    </tr>\n",
              "  </tbody>\n",
              "</table>\n",
              "</div>"
            ],
            "text/plain": [
              "   ID  Peso Sexo  Estatura  circun_cuello  circun_muneca\n",
              "0   1  47.6    F      1.57           29.5           13.9\n",
              "1   2  68.1    M      1.66           38.4           16.0\n",
              "2   3  68.0    M      1.90           36.5           16.6\n",
              "3   4  80.0    M      1.76           38.0           17.1\n",
              "4   5  68.1    M      1.83           38.0           17.1\n",
              "5   6  56.1    F      1.66           33.0           14.7"
            ]
          },
          "metadata": {
            "tags": []
          },
          "execution_count": 16
        }
      ]
    },
    {
      "cell_type": "code",
      "metadata": {
        "colab": {
          "base_uri": "https://localhost:8080/"
        },
        "id": "1Bf-eNuo6x1I",
        "outputId": "f6af4e97-f51a-4d01-f98b-9496a46d33fa"
      },
      "source": [
        "model=IsolationForest(n_estimators = 50, max_samples = 'auto', \\\n",
        "contamination = float(0.1), max_features = 1.0)\n",
        "model.fit(df[['Peso']])"
      ],
      "execution_count": 17,
      "outputs": [
        {
          "output_type": "execute_result",
          "data": {
            "text/plain": [
              "IsolationForest(behaviour='deprecated', bootstrap=False, contamination=0.1,\n",
              "                max_features=1.0, max_samples='auto', n_estimators=50,\n",
              "                n_jobs=None, random_state=None, verbose=0, warm_start=False)"
            ]
          },
          "metadata": {
            "tags": []
          },
          "execution_count": 17
        }
      ]
    },
    {
      "cell_type": "code",
      "metadata": {
        "colab": {
          "base_uri": "https://localhost:8080/",
          "height": 233
        },
        "id": "0mraNg3M7BXB",
        "outputId": "75d2f328-f31b-4022-e81e-5048df80ccc1"
      },
      "source": [
        "df['puntaje'] = model.decision_function(df[['Peso']])\n",
        "df['anomalo'] = model.predict(df[['Peso']])\n",
        "df[[\"Peso\", \"puntaje\", \"anomalo\"]].head(6)"
      ],
      "execution_count": 18,
      "outputs": [
        {
          "output_type": "execute_result",
          "data": {
            "text/html": [
              "<div>\n",
              "<style scoped>\n",
              "    .dataframe tbody tr th:only-of-type {\n",
              "        vertical-align: middle;\n",
              "    }\n",
              "\n",
              "    .dataframe tbody tr th {\n",
              "        vertical-align: top;\n",
              "    }\n",
              "\n",
              "    .dataframe thead th {\n",
              "        text-align: right;\n",
              "    }\n",
              "</style>\n",
              "<table border=\"1\" class=\"dataframe\">\n",
              "  <thead>\n",
              "    <tr style=\"text-align: right;\">\n",
              "      <th></th>\n",
              "      <th>Peso</th>\n",
              "      <th>puntaje</th>\n",
              "      <th>anomalo</th>\n",
              "    </tr>\n",
              "  </thead>\n",
              "  <tbody>\n",
              "    <tr>\n",
              "      <th>0</th>\n",
              "      <td>47.6</td>\n",
              "      <td>0.003558</td>\n",
              "      <td>1</td>\n",
              "    </tr>\n",
              "    <tr>\n",
              "      <th>1</th>\n",
              "      <td>68.1</td>\n",
              "      <td>0.181116</td>\n",
              "      <td>1</td>\n",
              "    </tr>\n",
              "    <tr>\n",
              "      <th>2</th>\n",
              "      <td>68.0</td>\n",
              "      <td>0.179215</td>\n",
              "      <td>1</td>\n",
              "    </tr>\n",
              "    <tr>\n",
              "      <th>3</th>\n",
              "      <td>80.0</td>\n",
              "      <td>-0.003558</td>\n",
              "      <td>-1</td>\n",
              "    </tr>\n",
              "    <tr>\n",
              "      <th>4</th>\n",
              "      <td>68.1</td>\n",
              "      <td>0.181116</td>\n",
              "      <td>1</td>\n",
              "    </tr>\n",
              "    <tr>\n",
              "      <th>5</th>\n",
              "      <td>56.1</td>\n",
              "      <td>0.113067</td>\n",
              "      <td>1</td>\n",
              "    </tr>\n",
              "  </tbody>\n",
              "</table>\n",
              "</div>"
            ],
            "text/plain": [
              "   Peso   puntaje  anomalo\n",
              "0  47.6  0.003558        1\n",
              "1  68.1  0.181116        1\n",
              "2  68.0  0.179215        1\n",
              "3  80.0 -0.003558       -1\n",
              "4  68.1  0.181116        1\n",
              "5  56.1  0.113067        1"
            ]
          },
          "metadata": {
            "tags": []
          },
          "execution_count": 18
        }
      ]
    },
    {
      "cell_type": "code",
      "metadata": {
        "colab": {
          "base_uri": "https://localhost:8080/"
        },
        "id": "umE-a4q17Hiz",
        "outputId": "f036085d-8528-4829-c4fe-4b466c0478a7"
      },
      "source": [
        "anomalia = df.loc[df['anomalo'] == -1]\n",
        "anomalia_index = list(anomalia.index)\n",
        "print(anomalia)"
      ],
      "execution_count": 19,
      "outputs": [
        {
          "output_type": "stream",
          "text": [
            "    ID   Peso Sexo  Estatura  circun_cuello  circun_muneca   puntaje  anomalo\n",
            "3    4   80.0    M      1.76           38.0           17.1 -0.003558       -1\n",
            "10  11  102.2    M      1.79           41.5           17.1 -0.243520       -1\n",
            "11  12   46.7    F      1.49           31.5           13.8 -0.045535       -1\n"
          ],
          "name": "stdout"
        }
      ]
    },
    {
      "cell_type": "code",
      "metadata": {
        "colab": {
          "base_uri": "https://localhost:8080/",
          "height": 233
        },
        "id": "yD5YQVy-7LZf",
        "outputId": "681f5b18-81e7-447e-b826-b1f739405bb5"
      },
      "source": [
        "df = pd.read_csv('PimaIndiansDiabetes.csv', index_col=[0])\n",
        "df.head(6)"
      ],
      "execution_count": 21,
      "outputs": [
        {
          "output_type": "execute_result",
          "data": {
            "text/html": [
              "<div>\n",
              "<style scoped>\n",
              "    .dataframe tbody tr th:only-of-type {\n",
              "        vertical-align: middle;\n",
              "    }\n",
              "\n",
              "    .dataframe tbody tr th {\n",
              "        vertical-align: top;\n",
              "    }\n",
              "\n",
              "    .dataframe thead th {\n",
              "        text-align: right;\n",
              "    }\n",
              "</style>\n",
              "<table border=\"1\" class=\"dataframe\">\n",
              "  <thead>\n",
              "    <tr style=\"text-align: right;\">\n",
              "      <th></th>\n",
              "      <th>pregnant</th>\n",
              "      <th>glucose</th>\n",
              "      <th>pressure</th>\n",
              "      <th>triceps</th>\n",
              "      <th>insulin</th>\n",
              "      <th>mass</th>\n",
              "      <th>pedigree</th>\n",
              "      <th>age</th>\n",
              "      <th>diabetes</th>\n",
              "    </tr>\n",
              "  </thead>\n",
              "  <tbody>\n",
              "    <tr>\n",
              "      <th>1</th>\n",
              "      <td>6</td>\n",
              "      <td>148.0</td>\n",
              "      <td>72.0</td>\n",
              "      <td>35.0</td>\n",
              "      <td>NaN</td>\n",
              "      <td>33.6</td>\n",
              "      <td>0.627</td>\n",
              "      <td>50</td>\n",
              "      <td>pos</td>\n",
              "    </tr>\n",
              "    <tr>\n",
              "      <th>2</th>\n",
              "      <td>1</td>\n",
              "      <td>85.0</td>\n",
              "      <td>66.0</td>\n",
              "      <td>29.0</td>\n",
              "      <td>NaN</td>\n",
              "      <td>26.6</td>\n",
              "      <td>0.351</td>\n",
              "      <td>31</td>\n",
              "      <td>neg</td>\n",
              "    </tr>\n",
              "    <tr>\n",
              "      <th>3</th>\n",
              "      <td>8</td>\n",
              "      <td>183.0</td>\n",
              "      <td>64.0</td>\n",
              "      <td>NaN</td>\n",
              "      <td>NaN</td>\n",
              "      <td>23.3</td>\n",
              "      <td>0.672</td>\n",
              "      <td>32</td>\n",
              "      <td>pos</td>\n",
              "    </tr>\n",
              "    <tr>\n",
              "      <th>4</th>\n",
              "      <td>1</td>\n",
              "      <td>89.0</td>\n",
              "      <td>66.0</td>\n",
              "      <td>23.0</td>\n",
              "      <td>94.0</td>\n",
              "      <td>28.1</td>\n",
              "      <td>0.167</td>\n",
              "      <td>21</td>\n",
              "      <td>neg</td>\n",
              "    </tr>\n",
              "    <tr>\n",
              "      <th>5</th>\n",
              "      <td>0</td>\n",
              "      <td>137.0</td>\n",
              "      <td>40.0</td>\n",
              "      <td>35.0</td>\n",
              "      <td>168.0</td>\n",
              "      <td>43.1</td>\n",
              "      <td>2.288</td>\n",
              "      <td>33</td>\n",
              "      <td>pos</td>\n",
              "    </tr>\n",
              "    <tr>\n",
              "      <th>6</th>\n",
              "      <td>5</td>\n",
              "      <td>116.0</td>\n",
              "      <td>74.0</td>\n",
              "      <td>NaN</td>\n",
              "      <td>NaN</td>\n",
              "      <td>25.6</td>\n",
              "      <td>0.201</td>\n",
              "      <td>30</td>\n",
              "      <td>neg</td>\n",
              "    </tr>\n",
              "  </tbody>\n",
              "</table>\n",
              "</div>"
            ],
            "text/plain": [
              "   pregnant  glucose  pressure  triceps  insulin  mass  pedigree  age diabetes\n",
              "1         6    148.0      72.0     35.0      NaN  33.6     0.627   50      pos\n",
              "2         1     85.0      66.0     29.0      NaN  26.6     0.351   31      neg\n",
              "3         8    183.0      64.0      NaN      NaN  23.3     0.672   32      pos\n",
              "4         1     89.0      66.0     23.0     94.0  28.1     0.167   21      neg\n",
              "5         0    137.0      40.0     35.0    168.0  43.1     2.288   33      pos\n",
              "6         5    116.0      74.0      NaN      NaN  25.6     0.201   30      neg"
            ]
          },
          "metadata": {
            "tags": []
          },
          "execution_count": 21
        }
      ]
    },
    {
      "cell_type": "code",
      "metadata": {
        "colab": {
          "base_uri": "https://localhost:8080/",
          "height": 233
        },
        "id": "TMp7z70F7YZ2",
        "outputId": "a61e2e39-9ae7-4aff-e96a-8e091ae6b8c8"
      },
      "source": [
        "df[['diabetes']] = np.where(df['diabetes'].str.contains(\"pos\"), 1, 0)\n",
        "df.head(6)"
      ],
      "execution_count": 22,
      "outputs": [
        {
          "output_type": "execute_result",
          "data": {
            "text/html": [
              "<div>\n",
              "<style scoped>\n",
              "    .dataframe tbody tr th:only-of-type {\n",
              "        vertical-align: middle;\n",
              "    }\n",
              "\n",
              "    .dataframe tbody tr th {\n",
              "        vertical-align: top;\n",
              "    }\n",
              "\n",
              "    .dataframe thead th {\n",
              "        text-align: right;\n",
              "    }\n",
              "</style>\n",
              "<table border=\"1\" class=\"dataframe\">\n",
              "  <thead>\n",
              "    <tr style=\"text-align: right;\">\n",
              "      <th></th>\n",
              "      <th>pregnant</th>\n",
              "      <th>glucose</th>\n",
              "      <th>pressure</th>\n",
              "      <th>triceps</th>\n",
              "      <th>insulin</th>\n",
              "      <th>mass</th>\n",
              "      <th>pedigree</th>\n",
              "      <th>age</th>\n",
              "      <th>diabetes</th>\n",
              "    </tr>\n",
              "  </thead>\n",
              "  <tbody>\n",
              "    <tr>\n",
              "      <th>1</th>\n",
              "      <td>6</td>\n",
              "      <td>148.0</td>\n",
              "      <td>72.0</td>\n",
              "      <td>35.0</td>\n",
              "      <td>NaN</td>\n",
              "      <td>33.6</td>\n",
              "      <td>0.627</td>\n",
              "      <td>50</td>\n",
              "      <td>1</td>\n",
              "    </tr>\n",
              "    <tr>\n",
              "      <th>2</th>\n",
              "      <td>1</td>\n",
              "      <td>85.0</td>\n",
              "      <td>66.0</td>\n",
              "      <td>29.0</td>\n",
              "      <td>NaN</td>\n",
              "      <td>26.6</td>\n",
              "      <td>0.351</td>\n",
              "      <td>31</td>\n",
              "      <td>0</td>\n",
              "    </tr>\n",
              "    <tr>\n",
              "      <th>3</th>\n",
              "      <td>8</td>\n",
              "      <td>183.0</td>\n",
              "      <td>64.0</td>\n",
              "      <td>NaN</td>\n",
              "      <td>NaN</td>\n",
              "      <td>23.3</td>\n",
              "      <td>0.672</td>\n",
              "      <td>32</td>\n",
              "      <td>1</td>\n",
              "    </tr>\n",
              "    <tr>\n",
              "      <th>4</th>\n",
              "      <td>1</td>\n",
              "      <td>89.0</td>\n",
              "      <td>66.0</td>\n",
              "      <td>23.0</td>\n",
              "      <td>94.0</td>\n",
              "      <td>28.1</td>\n",
              "      <td>0.167</td>\n",
              "      <td>21</td>\n",
              "      <td>0</td>\n",
              "    </tr>\n",
              "    <tr>\n",
              "      <th>5</th>\n",
              "      <td>0</td>\n",
              "      <td>137.0</td>\n",
              "      <td>40.0</td>\n",
              "      <td>35.0</td>\n",
              "      <td>168.0</td>\n",
              "      <td>43.1</td>\n",
              "      <td>2.288</td>\n",
              "      <td>33</td>\n",
              "      <td>1</td>\n",
              "    </tr>\n",
              "    <tr>\n",
              "      <th>6</th>\n",
              "      <td>5</td>\n",
              "      <td>116.0</td>\n",
              "      <td>74.0</td>\n",
              "      <td>NaN</td>\n",
              "      <td>NaN</td>\n",
              "      <td>25.6</td>\n",
              "      <td>0.201</td>\n",
              "      <td>30</td>\n",
              "      <td>0</td>\n",
              "    </tr>\n",
              "  </tbody>\n",
              "</table>\n",
              "</div>"
            ],
            "text/plain": [
              "   pregnant  glucose  pressure  triceps  insulin  mass  pedigree  age  diabetes\n",
              "1         6    148.0      72.0     35.0      NaN  33.6     0.627   50         1\n",
              "2         1     85.0      66.0     29.0      NaN  26.6     0.351   31         0\n",
              "3         8    183.0      64.0      NaN      NaN  23.3     0.672   32         1\n",
              "4         1     89.0      66.0     23.0     94.0  28.1     0.167   21         0\n",
              "5         0    137.0      40.0     35.0    168.0  43.1     2.288   33         1\n",
              "6         5    116.0      74.0      NaN      NaN  25.6     0.201   30         0"
            ]
          },
          "metadata": {
            "tags": []
          },
          "execution_count": 22
        }
      ]
    },
    {
      "cell_type": "code",
      "metadata": {
        "colab": {
          "base_uri": "https://localhost:8080/",
          "height": 233
        },
        "id": "8LhD0qSC7cyG",
        "outputId": "a9219318-1809-4866-80e9-363de3759495"
      },
      "source": [
        "# Se elimina la etiqueta que no interesa\n",
        "# X = df.iloc[:,:-1]\n",
        "X = df\n",
        "# Sólo datos completos, sin NaN\n",
        "X.dropna(axis = 0, how = 'any', inplace = True)\n",
        "X.head(6)"
      ],
      "execution_count": 23,
      "outputs": [
        {
          "output_type": "execute_result",
          "data": {
            "text/html": [
              "<div>\n",
              "<style scoped>\n",
              "    .dataframe tbody tr th:only-of-type {\n",
              "        vertical-align: middle;\n",
              "    }\n",
              "\n",
              "    .dataframe tbody tr th {\n",
              "        vertical-align: top;\n",
              "    }\n",
              "\n",
              "    .dataframe thead th {\n",
              "        text-align: right;\n",
              "    }\n",
              "</style>\n",
              "<table border=\"1\" class=\"dataframe\">\n",
              "  <thead>\n",
              "    <tr style=\"text-align: right;\">\n",
              "      <th></th>\n",
              "      <th>pregnant</th>\n",
              "      <th>glucose</th>\n",
              "      <th>pressure</th>\n",
              "      <th>triceps</th>\n",
              "      <th>insulin</th>\n",
              "      <th>mass</th>\n",
              "      <th>pedigree</th>\n",
              "      <th>age</th>\n",
              "      <th>diabetes</th>\n",
              "    </tr>\n",
              "  </thead>\n",
              "  <tbody>\n",
              "    <tr>\n",
              "      <th>4</th>\n",
              "      <td>1</td>\n",
              "      <td>89.0</td>\n",
              "      <td>66.0</td>\n",
              "      <td>23.0</td>\n",
              "      <td>94.0</td>\n",
              "      <td>28.1</td>\n",
              "      <td>0.167</td>\n",
              "      <td>21</td>\n",
              "      <td>0</td>\n",
              "    </tr>\n",
              "    <tr>\n",
              "      <th>5</th>\n",
              "      <td>0</td>\n",
              "      <td>137.0</td>\n",
              "      <td>40.0</td>\n",
              "      <td>35.0</td>\n",
              "      <td>168.0</td>\n",
              "      <td>43.1</td>\n",
              "      <td>2.288</td>\n",
              "      <td>33</td>\n",
              "      <td>1</td>\n",
              "    </tr>\n",
              "    <tr>\n",
              "      <th>7</th>\n",
              "      <td>3</td>\n",
              "      <td>78.0</td>\n",
              "      <td>50.0</td>\n",
              "      <td>32.0</td>\n",
              "      <td>88.0</td>\n",
              "      <td>31.0</td>\n",
              "      <td>0.248</td>\n",
              "      <td>26</td>\n",
              "      <td>1</td>\n",
              "    </tr>\n",
              "    <tr>\n",
              "      <th>9</th>\n",
              "      <td>2</td>\n",
              "      <td>197.0</td>\n",
              "      <td>70.0</td>\n",
              "      <td>45.0</td>\n",
              "      <td>543.0</td>\n",
              "      <td>30.5</td>\n",
              "      <td>0.158</td>\n",
              "      <td>53</td>\n",
              "      <td>1</td>\n",
              "    </tr>\n",
              "    <tr>\n",
              "      <th>14</th>\n",
              "      <td>1</td>\n",
              "      <td>189.0</td>\n",
              "      <td>60.0</td>\n",
              "      <td>23.0</td>\n",
              "      <td>846.0</td>\n",
              "      <td>30.1</td>\n",
              "      <td>0.398</td>\n",
              "      <td>59</td>\n",
              "      <td>1</td>\n",
              "    </tr>\n",
              "    <tr>\n",
              "      <th>15</th>\n",
              "      <td>5</td>\n",
              "      <td>166.0</td>\n",
              "      <td>72.0</td>\n",
              "      <td>19.0</td>\n",
              "      <td>175.0</td>\n",
              "      <td>25.8</td>\n",
              "      <td>0.587</td>\n",
              "      <td>51</td>\n",
              "      <td>1</td>\n",
              "    </tr>\n",
              "  </tbody>\n",
              "</table>\n",
              "</div>"
            ],
            "text/plain": [
              "    pregnant  glucose  pressure  triceps  ...  mass  pedigree  age  diabetes\n",
              "4          1     89.0      66.0     23.0  ...  28.1     0.167   21         0\n",
              "5          0    137.0      40.0     35.0  ...  43.1     2.288   33         1\n",
              "7          3     78.0      50.0     32.0  ...  31.0     0.248   26         1\n",
              "9          2    197.0      70.0     45.0  ...  30.5     0.158   53         1\n",
              "14         1    189.0      60.0     23.0  ...  30.1     0.398   59         1\n",
              "15         5    166.0      72.0     19.0  ...  25.8     0.587   51         1\n",
              "\n",
              "[6 rows x 9 columns]"
            ]
          },
          "metadata": {
            "tags": []
          },
          "execution_count": 23
        }
      ]
    },
    {
      "cell_type": "code",
      "metadata": {
        "colab": {
          "base_uri": "https://localhost:8080/"
        },
        "id": "dQ9OV5F67hzW",
        "outputId": "c20f8628-056f-4322-f461-2e8c1be1f22a"
      },
      "source": [
        "model = IsolationForest(max_samples = 100) # Puede colocarse como parámetro contamination = valor\n",
        "X_matrix = X.values.reshape(-1, 9) # Número de features\n",
        "len(X_matrix) # filas"
      ],
      "execution_count": 25,
      "outputs": [
        {
          "output_type": "execute_result",
          "data": {
            "text/plain": [
              "392"
            ]
          },
          "metadata": {
            "tags": []
          },
          "execution_count": 25
        }
      ]
    },
    {
      "cell_type": "code",
      "metadata": {
        "id": "P6fzA9z87lIK"
      },
      "source": [
        "model = IsolationForest(max_samples = 100) # Puede colocarse como parámetro contamination = valor\n",
        "X_matrix = X.values.reshape(-1, 9) # Número de features\n",
        "len(X_matrix) # filas"
      ],
      "execution_count": null,
      "outputs": []
    },
    {
      "cell_type": "code",
      "metadata": {
        "colab": {
          "base_uri": "https://localhost:8080/"
        },
        "id": "RbJqC7Fn7oAY",
        "outputId": "1d8a4352-d5a2-4849-943e-74e46bd311f1"
      },
      "source": [
        "model.fit(X_matrix)"
      ],
      "execution_count": 26,
      "outputs": [
        {
          "output_type": "execute_result",
          "data": {
            "text/plain": [
              "IsolationForest(behaviour='deprecated', bootstrap=False, contamination='auto',\n",
              "                max_features=1.0, max_samples=100, n_estimators=100,\n",
              "                n_jobs=None, random_state=None, verbose=0, warm_start=False)"
            ]
          },
          "metadata": {
            "tags": []
          },
          "execution_count": 26
        }
      ]
    },
    {
      "cell_type": "code",
      "metadata": {
        "id": "EoBcPj_b7rzq"
      },
      "source": [
        "X['puntaje'] = model.decision_function(X_matrix)\n",
        "X['anomalo'] = model.predict(X_matrix)"
      ],
      "execution_count": 27,
      "outputs": []
    },
    {
      "cell_type": "code",
      "metadata": {
        "colab": {
          "base_uri": "https://localhost:8080/"
        },
        "id": "d8rRmF4S7uTX",
        "outputId": "3effada2-3471-4b71-d06b-d9459d927679"
      },
      "source": [
        "# anomalia = X.loc[X['anomalo'] == -1]\n",
        "# df.loc[df['column_name'] == some_value]\n",
        "anomalia = X[X['anomalo'] == -1]\n",
        "anomalia_index = list(anomalia.index)\n",
        "print(anomalia)"
      ],
      "execution_count": 28,
      "outputs": [
        {
          "output_type": "stream",
          "text": [
            "     pregnant  glucose  pressure  triceps  ...  age  diabetes   puntaje  anomalo\n",
            "5           0    137.0      40.0     35.0  ...   33         1 -0.101543       -1\n",
            "9           2    197.0      70.0     45.0  ...   53         1 -0.110101       -1\n",
            "14          1    189.0      60.0     23.0  ...   59         1 -0.113951       -1\n",
            "15          5    166.0      72.0     19.0  ...   51         1 -0.005179       -1\n",
            "25         11    143.0      94.0     33.0  ...   51         1 -0.022556       -1\n",
            "..        ...      ...       ...      ...  ...  ...       ...       ...      ...\n",
            "745        13    153.0      88.0     37.0  ...   39         0 -0.078120       -1\n",
            "746        12    100.0      84.0     33.0  ...   46         0 -0.014136       -1\n",
            "748         1     81.0      74.0     41.0  ...   32         0 -0.030475       -1\n",
            "754         0    181.0      88.0     44.0  ...   26         1 -0.055841       -1\n",
            "764        10    101.0      76.0     48.0  ...   63         0 -0.057911       -1\n",
            "\n",
            "[90 rows x 11 columns]\n"
          ],
          "name": "stdout"
        }
      ]
    },
    {
      "cell_type": "markdown",
      "metadata": {
        "id": "Z4xzflVHVRrj"
      },
      "source": [
        "**Ejercicio tarea medidas de Cuerpo (LOF)**"
      ]
    },
    {
      "cell_type": "code",
      "metadata": {
        "colab": {
          "base_uri": "https://localhost:8080/"
        },
        "id": "ykxG7eV8VX5S",
        "outputId": "4f194034-a3d3-4d22-b766-a125c346d896"
      },
      "source": [
        "df = pd.read_csv('medidas_cuerpo2.csv')\n",
        "df.head()"
      ],
      "execution_count": 55,
      "outputs": [
        {
          "output_type": "execute_result",
          "data": {
            "text/plain": [
              "(26, 6)"
            ]
          },
          "metadata": {
            "tags": []
          },
          "execution_count": 55
        }
      ]
    },
    {
      "cell_type": "code",
      "metadata": {
        "colab": {
          "base_uri": "https://localhost:8080/"
        },
        "id": "saltEDOqVtlv",
        "outputId": "2ba71055-e097-450a-966a-876007c2f772"
      },
      "source": [
        "clf = LocalOutlierFactor(n_neighbors = 3, novelty = False, contamination = 0.2)\n",
        "# use fit_predict para calcular el número de errores al comparar\n",
        "# con las etiquetas asignadas a la muestra de entrenamiento.\n",
        "X = df[['Peso', 'Estatura',\t'circun_cuello',\t'circun_muneca']]\n",
        "y_pred = clf.fit_predict(X)\n",
        "lof_scores = -1 * clf.negative_outlier_factor_\n",
        "outlier = (lof_scores > 2)+0\n",
        "unique, counts = np.unique(outlier_15, return_counts=True)\n",
        "unique, counts\n",
        "# np.random.choice(X_scores, 20) # Vea una muestra de \"puntajes\"\n",
        "outlier"
      ],
      "execution_count": 62,
      "outputs": [
        {
          "output_type": "execute_result",
          "data": {
            "text/plain": [
              "array([0, 0, 0, 0, 0, 0, 0, 0, 0, 0, 1, 0, 0, 0, 0, 0, 0, 0, 0, 0, 0, 0,\n",
              "       0, 0, 0, 0])"
            ]
          },
          "metadata": {
            "tags": []
          },
          "execution_count": 62
        }
      ]
    },
    {
      "cell_type": "code",
      "metadata": {
        "colab": {
          "base_uri": "https://localhost:8080/",
          "height": 202
        },
        "id": "9aoBfqJCWbME",
        "outputId": "3b614ac8-cef2-49e0-b1d8-5dfdeffe7911"
      },
      "source": [
        "df['outlier'] = outlier\n",
        "df.head()"
      ],
      "execution_count": 63,
      "outputs": [
        {
          "output_type": "execute_result",
          "data": {
            "text/html": [
              "<div>\n",
              "<style scoped>\n",
              "    .dataframe tbody tr th:only-of-type {\n",
              "        vertical-align: middle;\n",
              "    }\n",
              "\n",
              "    .dataframe tbody tr th {\n",
              "        vertical-align: top;\n",
              "    }\n",
              "\n",
              "    .dataframe thead th {\n",
              "        text-align: right;\n",
              "    }\n",
              "</style>\n",
              "<table border=\"1\" class=\"dataframe\">\n",
              "  <thead>\n",
              "    <tr style=\"text-align: right;\">\n",
              "      <th></th>\n",
              "      <th>ID</th>\n",
              "      <th>Peso</th>\n",
              "      <th>Sexo</th>\n",
              "      <th>Estatura</th>\n",
              "      <th>circun_cuello</th>\n",
              "      <th>circun_muneca</th>\n",
              "      <th>outlier</th>\n",
              "    </tr>\n",
              "  </thead>\n",
              "  <tbody>\n",
              "    <tr>\n",
              "      <th>0</th>\n",
              "      <td>1</td>\n",
              "      <td>47.6</td>\n",
              "      <td>F</td>\n",
              "      <td>1.57</td>\n",
              "      <td>29.5</td>\n",
              "      <td>13.9</td>\n",
              "      <td>0</td>\n",
              "    </tr>\n",
              "    <tr>\n",
              "      <th>1</th>\n",
              "      <td>2</td>\n",
              "      <td>68.1</td>\n",
              "      <td>M</td>\n",
              "      <td>1.66</td>\n",
              "      <td>38.4</td>\n",
              "      <td>16.0</td>\n",
              "      <td>0</td>\n",
              "    </tr>\n",
              "    <tr>\n",
              "      <th>2</th>\n",
              "      <td>3</td>\n",
              "      <td>68.0</td>\n",
              "      <td>M</td>\n",
              "      <td>1.90</td>\n",
              "      <td>36.5</td>\n",
              "      <td>16.6</td>\n",
              "      <td>0</td>\n",
              "    </tr>\n",
              "    <tr>\n",
              "      <th>3</th>\n",
              "      <td>4</td>\n",
              "      <td>80.0</td>\n",
              "      <td>M</td>\n",
              "      <td>1.76</td>\n",
              "      <td>38.0</td>\n",
              "      <td>17.1</td>\n",
              "      <td>0</td>\n",
              "    </tr>\n",
              "    <tr>\n",
              "      <th>4</th>\n",
              "      <td>5</td>\n",
              "      <td>68.1</td>\n",
              "      <td>M</td>\n",
              "      <td>1.83</td>\n",
              "      <td>38.0</td>\n",
              "      <td>17.1</td>\n",
              "      <td>0</td>\n",
              "    </tr>\n",
              "  </tbody>\n",
              "</table>\n",
              "</div>"
            ],
            "text/plain": [
              "   ID  Peso Sexo  Estatura  circun_cuello  circun_muneca  outlier\n",
              "0   1  47.6    F      1.57           29.5           13.9        0\n",
              "1   2  68.1    M      1.66           38.4           16.0        0\n",
              "2   3  68.0    M      1.90           36.5           16.6        0\n",
              "3   4  80.0    M      1.76           38.0           17.1        0\n",
              "4   5  68.1    M      1.83           38.0           17.1        0"
            ]
          },
          "metadata": {
            "tags": []
          },
          "execution_count": 63
        }
      ]
    },
    {
      "cell_type": "code",
      "metadata": {
        "colab": {
          "base_uri": "https://localhost:8080/",
          "height": 79
        },
        "id": "doqHRk50W_Ek",
        "outputId": "11daab1c-4c20-447b-ecbe-7655202b0425"
      },
      "source": [
        "df.loc[df.outlier == 1]"
      ],
      "execution_count": 66,
      "outputs": [
        {
          "output_type": "execute_result",
          "data": {
            "text/html": [
              "<div>\n",
              "<style scoped>\n",
              "    .dataframe tbody tr th:only-of-type {\n",
              "        vertical-align: middle;\n",
              "    }\n",
              "\n",
              "    .dataframe tbody tr th {\n",
              "        vertical-align: top;\n",
              "    }\n",
              "\n",
              "    .dataframe thead th {\n",
              "        text-align: right;\n",
              "    }\n",
              "</style>\n",
              "<table border=\"1\" class=\"dataframe\">\n",
              "  <thead>\n",
              "    <tr style=\"text-align: right;\">\n",
              "      <th></th>\n",
              "      <th>ID</th>\n",
              "      <th>Peso</th>\n",
              "      <th>Sexo</th>\n",
              "      <th>Estatura</th>\n",
              "      <th>circun_cuello</th>\n",
              "      <th>circun_muneca</th>\n",
              "      <th>outlier</th>\n",
              "    </tr>\n",
              "  </thead>\n",
              "  <tbody>\n",
              "    <tr>\n",
              "      <th>10</th>\n",
              "      <td>11</td>\n",
              "      <td>102.2</td>\n",
              "      <td>M</td>\n",
              "      <td>1.79</td>\n",
              "      <td>41.5</td>\n",
              "      <td>17.1</td>\n",
              "      <td>1</td>\n",
              "    </tr>\n",
              "  </tbody>\n",
              "</table>\n",
              "</div>"
            ],
            "text/plain": [
              "    ID   Peso Sexo  Estatura  circun_cuello  circun_muneca  outlier\n",
              "10  11  102.2    M      1.79           41.5           17.1        1"
            ]
          },
          "metadata": {
            "tags": []
          },
          "execution_count": 66
        }
      ]
    }
  ]
}