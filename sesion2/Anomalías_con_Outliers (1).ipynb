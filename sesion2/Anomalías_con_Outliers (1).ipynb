{
  "nbformat": 4,
  "nbformat_minor": 0,
  "metadata": {
    "colab": {
      "name": "Anomalías con Outliers.ipynb",
      "provenance": [],
      "collapsed_sections": []
    },
    "kernelspec": {
      "name": "python3",
      "display_name": "Python 3"
    },
    "language_info": {
      "name": "python"
    }
  },
  "cells": [
    {
      "cell_type": "markdown",
      "metadata": {
        "id": "icWaZAlLSwN6"
      },
      "source": [
        "**Prueba de Grubbs**"
      ]
    },
    {
      "cell_type": "code",
      "metadata": {
        "id": "al7OEUZhStWc"
      },
      "source": [
        "import os\n",
        "import pandas as pd\n",
        "import numpy as np\n",
        "from scipy import stats\n",
        "import matplotlib.pyplot as plt\n",
        "import seaborn as sns\n",
        "from sklearn import datasets\n",
        "from scipy.stats import t, zscore\n",
        "import random"
      ],
      "execution_count": 31,
      "outputs": []
    },
    {
      "cell_type": "code",
      "metadata": {
        "id": "XwDfcBLkS7Ap"
      },
      "source": [
        "def grubbs(X, test='two-tailed', alpha=0.05):\n",
        "    '''\n",
        "    Ejecuta el test de Grubbs recursivamente hasta que la hipótesis nula sea cierta.\n",
        "    Parametros\n",
        "    ----------\n",
        "    X : ndarray\n",
        "    El arreglo de numeros (numpy) sobre el cual se desea hallar outliers.\n",
        "    test : str\n",
        "    Describe los tipos de outliers que se están buscando. Puede ser 'min'\n",
        "    (si se buscan los outliers muy pequeños), 'max' (si se buscan los grandes),\n",
        "    o 'two-tailed' (si se buscan ambos).\n",
        "    alpha : float\n",
        "    El nivel de significancia.\n",
        "    Retorna\n",
        "    -------\n",
        "    X : ndarray\n",
        "    El arreglo original con los outliers removidos.\n",
        "    outliers : ndarray\n",
        "    Un arreglo de outliers.\n",
        "    '''\n",
        "    Z = zscore(X, ddof=1) # Z-score\n",
        "    N = len(X) # Número de muestras\n",
        "    # Calcula valores extremos y en valor crítico de la t de student\n",
        "    if test == 'two-tailed':\n",
        "        extreme_ix = lambda Z: np.abs(Z).argmax()\n",
        "        t_crit = lambda N: t.isf(alpha / (2.*N), N-2)\n",
        "    elif test == 'max':\n",
        "        extreme_ix = lambda Z: Z.argmax()\n",
        "        t_crit = lambda N: t.isf(alpha / N, N-2)\n",
        "    elif test == 'min':\n",
        "        extreme_ix = lambda Z: Z.argmin()\n",
        "        t_crit = lambda N: t.isf(alpha / N, N-2)\n",
        "    else:\n",
        "        raise ValueError (\"Test must be 'min', 'max', or 'two-tailed'\")\n",
        "    thresh = lambda N: (N - 1.) / np.sqrt(N) * \\\n",
        "        np.sqrt(t_crit(N)**2 / (N - 2 + t_crit(N)**2))\n",
        "    # Crea un arreglo donde almacena los outliers\n",
        "    outliers = np.array([])\n",
        "    # Bucle sobre el arreglo de datos y remueve los outliers\n",
        "    while abs(Z[extreme_ix(Z)]) > thresh(N):\n",
        "        # actualiza los outliers\n",
        "        outliers = np.r_[outliers, X[extreme_ix(Z)]]\n",
        "        # remueve los outlier del arreglo\n",
        "        X = np.delete(X, extreme_ix(Z))\n",
        "        # recalcula el Z score\n",
        "        Z = zscore(X, ddof=1)\n",
        "        N = len(X)\n",
        "        return X, outliers"
      ],
      "execution_count": 40,
      "outputs": []
    },
    {
      "cell_type": "code",
      "metadata": {
        "colab": {
          "base_uri": "https://localhost:8080/"
        },
        "id": "YCUXF25mTMoP",
        "outputId": "55fc6abc-95eb-4eb4-f4ba-88fbf6b68a5f"
      },
      "source": [
        "np.random.seed(1548)\n",
        "x1 = np.random.normal(30, 10, 20)\n",
        "x2 = np.random.randint(50, 100, 2)\n",
        "x = np.append(x1, x2)\n",
        "print(x)"
      ],
      "execution_count": 41,
      "outputs": [
        {
          "output_type": "stream",
          "text": [
            "[25.70407946 41.84081878 40.90397337 34.28815348 24.79200971 25.41526208\n",
            " 32.18174438 31.80755495 26.64518827 39.67046269 40.20563416 33.29813472\n",
            " 28.31732909 18.26280697 32.78518143 11.63954665 32.69773757 35.02533554\n",
            " 31.4466714  13.31562267 52.         68.        ]\n"
          ],
          "name": "stdout"
        }
      ]
    },
    {
      "cell_type": "code",
      "metadata": {
        "colab": {
          "base_uri": "https://localhost:8080/"
        },
        "id": "fnuge-WZSu5V",
        "outputId": "59ac4246-4d01-49ff-8397-ef86fcdf3fec"
      },
      "source": [
        "grubbs(x)\n"
      ],
      "execution_count": 42,
      "outputs": [
        {
          "output_type": "execute_result",
          "data": {
            "text/plain": [
              "(array([25.70407946, 41.84081878, 40.90397337, 34.28815348, 24.79200971,\n",
              "        25.41526208, 32.18174438, 31.80755495, 26.64518827, 39.67046269,\n",
              "        40.20563416, 33.29813472, 28.31732909, 18.26280697, 32.78518143,\n",
              "        11.63954665, 32.69773757, 35.02533554, 31.4466714 , 13.31562267,\n",
              "        52.        ]), array([68.]))"
            ]
          },
          "metadata": {
            "tags": []
          },
          "execution_count": 42
        }
      ]
    },
    {
      "cell_type": "code",
      "metadata": {
        "id": "-0lOxX_TtPwM"
      },
      "source": [
        "import numpy as np\n",
        "import pandas as pd\n",
        "import plotnine \n",
        "import statsmodels.formula.api as smf\n",
        "from plotnine import ggplot, geom_point, aes, geom_abline\n"
      ],
      "execution_count": 18,
      "outputs": []
    },
    {
      "cell_type": "code",
      "metadata": {
        "id": "fOsWM6fRwwD8"
      },
      "source": [
        "datos = pd.read_csv(\"medidas_cuerpo2.csv\")"
      ],
      "execution_count": 19,
      "outputs": []
    },
    {
      "cell_type": "code",
      "metadata": {
        "colab": {
          "base_uri": "https://localhost:8080/"
        },
        "id": "q6aj-t1rumrZ",
        "outputId": "1f823cfc-b532-4fb5-d6e5-5a18d48211dd"
      },
      "source": [
        "lm=smf.ols(formula = \"Peso ~ Estatura\", data = datos).fit()\n",
        "lm.params\n"
      ],
      "execution_count": 20,
      "outputs": [
        {
          "output_type": "execute_result",
          "data": {
            "text/plain": [
              "Intercept   -66.737734\n",
              "Estatura     78.540296\n",
              "dtype: float64"
            ]
          },
          "metadata": {
            "tags": []
          },
          "execution_count": 20
        }
      ]
    },
    {
      "cell_type": "code",
      "metadata": {
        "colab": {
          "base_uri": "https://localhost:8080/"
        },
        "id": "223kVgXGupdi",
        "outputId": "0980b171-2721-4840-fda0-6234729e8bbb"
      },
      "source": [
        "lm.rsquared"
      ],
      "execution_count": 21,
      "outputs": [
        {
          "output_type": "execute_result",
          "data": {
            "text/plain": [
              "0.43827250709468557"
            ]
          },
          "metadata": {
            "tags": []
          },
          "execution_count": 21
        }
      ]
    },
    {
      "cell_type": "code",
      "metadata": {
        "id": "87h4utWtuu4Q"
      },
      "source": [
        "n=datos.shape[0]\n",
        "p=2\n",
        "influence = lm.get_influence()\n"
      ],
      "execution_count": 23,
      "outputs": []
    },
    {
      "cell_type": "markdown",
      "metadata": {
        "id": "9KAxQZ-fu0yu"
      },
      "source": [
        "**Residuales estudentizados**"
      ]
    },
    {
      "cell_type": "code",
      "metadata": {
        "colab": {
          "base_uri": "https://localhost:8080/",
          "height": 518
        },
        "id": "crOemok-u5Gm",
        "outputId": "78fc36c6-972c-47bd-ddb0-0b4f46dc3898"
      },
      "source": [
        "resid_student = influence.resid_studentized_external\n",
        "datos[['outlier_residstud_rls']] = np.where(abs(resid_student) >= 2, 1, 0)\n",
        "(ggplot(datos, aes('Estatura', 'Peso', color='factor(outlier_residstud_rls)'))\n",
        " + geom_point()\n",
        " + geom_abline(intercept = lm.params[0], slope = lm.params[1], color = \"black\"))\n"
      ],
      "execution_count": 22,
      "outputs": [
        {
          "output_type": "stream",
          "text": [
            "/usr/local/lib/python3.7/dist-packages/plotnine/utils.py:1246: FutureWarning: is_categorical is deprecated and will be removed in a future version.  Use is_categorical_dtype instead\n",
            "  if pdtypes.is_categorical(arr):\n"
          ],
          "name": "stderr"
        },
        {
          "output_type": "display_data",
          "data": {
            "image/png": "[encoded data removed]",
            "text/plain": [
              "<Figure size 640x480 with 1 Axes>"
            ]
          },
          "metadata": {
            "tags": []
          }
        },
        {
          "output_type": "execute_result",
          "data": {
            "text/plain": [
              "<ggplot: (8762202377313)>"
            ]
          },
          "metadata": {
            "tags": []
          },
          "execution_count": 22
        }
      ]
    },
    {
      "cell_type": "markdown",
      "metadata": {
        "id": "5jg0x9qxu-i0"
      },
      "source": [
        "**Distancia de Cook**"
      ]
    },
    {
      "cell_type": "code",
      "metadata": {
        "colab": {
          "base_uri": "https://localhost:8080/",
          "height": 518
        },
        "id": "wAsGd5LQvESb",
        "outputId": "de6689dd-9f74-45da-abd3-d275f40fe6fb"
      },
      "source": [
        "(cooks, p) = influence.cooks_distance\n",
        "datos[['outlier_cook_rls']] = np.where(cooks >= 4 /(n-2-2), 1, 0)\n",
        "(ggplot(datos, aes('Estatura', 'Peso', color='factor(outlier_cook_rls)'))\n",
        " + geom_point()\n",
        " + geom_abline(intercept = lm.params[0], slope = lm.params[1], color = \"black\"))\n"
      ],
      "execution_count": 24,
      "outputs": [
        {
          "output_type": "stream",
          "text": [
            "/usr/local/lib/python3.7/dist-packages/plotnine/utils.py:1246: FutureWarning: is_categorical is deprecated and will be removed in a future version.  Use is_categorical_dtype instead\n",
            "  if pdtypes.is_categorical(arr):\n"
          ],
          "name": "stderr"
        },
        {
          "output_type": "display_data",
          "data": {
            "image/png": "[encoded data removed]",
            "text/plain": [
              "<Figure size 640x480 with 1 Axes>"
            ]
          },
          "metadata": {
            "tags": []
          }
        },
        {
          "output_type": "execute_result",
          "data": {
            "text/plain": [
              "<ggplot: (8762213239753)>"
            ]
          },
          "metadata": {
            "tags": []
          },
          "execution_count": 24
        }
      ]
    },
    {
      "cell_type": "markdown",
      "metadata": {
        "id": "nPLL6ZM4vHh9"
      },
      "source": [
        "**DFFIT**"
      ]
    },
    {
      "cell_type": "code",
      "metadata": {
        "colab": {
          "base_uri": "https://localhost:8080/",
          "height": 518
        },
        "id": "1ft6jHvJvR1I",
        "outputId": "2a0365db-a37b-4027-b258-64a1ba5d3cbd"
      },
      "source": [
        "(dffits, p) = influence.dffits\n",
        "datos[['outlier_dffit_rls']] = np.where(dffits > 2 / np.sqrt(p/n), 1, 0)\n",
        "(ggplot(datos, aes('Estatura', 'Peso', color='factor(outlier_dffit_rls)'))\n",
        " + geom_point()\n",
        " + geom_abline(intercept = lm.params[0], slope = lm.params[1], color = \"black\"))\n"
      ],
      "execution_count": 25,
      "outputs": [
        {
          "output_type": "stream",
          "text": [
            "/usr/local/lib/python3.7/dist-packages/plotnine/utils.py:1246: FutureWarning: is_categorical is deprecated and will be removed in a future version.  Use is_categorical_dtype instead\n",
            "  if pdtypes.is_categorical(arr):\n"
          ],
          "name": "stderr"
        },
        {
          "output_type": "display_data",
          "data": {
            "image/png": "[encoded data removed]",
            "text/plain": [
              "<Figure size 640x480 with 1 Axes>"
            ]
          },
          "metadata": {
            "tags": []
          }
        },
        {
          "output_type": "execute_result",
          "data": {
            "text/plain": [
              "<ggplot: (8762202320429)>"
            ]
          },
          "metadata": {
            "tags": []
          },
          "execution_count": 25
        }
      ]
    },
    {
      "cell_type": "markdown",
      "metadata": {
        "id": "wNXCCgp6wCfS"
      },
      "source": [
        "**Leverege**"
      ]
    },
    {
      "cell_type": "code",
      "metadata": {
        "colab": {
          "base_uri": "https://localhost:8080/",
          "height": 518
        },
        "id": "_qGdjGtowHNW",
        "outputId": "7391dbf1-cc34-4322-bbdc-239a8efcff09"
      },
      "source": [
        "leverage = influence.hat_matrix_diag\n",
        "datos[['influential_hat']] = np.where(leverage >= 2*p/n, 1, 0)\n",
        "(ggplot(datos, aes('Estatura', 'Peso', color='factor(influential_hat)'))\n",
        " + geom_point()\n",
        " + geom_abline(intercept = lm.params[0], slope = lm.params[1], color = \"black\"))\n"
      ],
      "execution_count": 10,
      "outputs": [
        {
          "output_type": "stream",
          "text": [
            "/usr/local/lib/python3.7/dist-packages/plotnine/utils.py:1246: FutureWarning: is_categorical is deprecated and will be removed in a future version.  Use is_categorical_dtype instead\n",
            "  if pdtypes.is_categorical(arr):\n"
          ],
          "name": "stderr"
        },
        {
          "output_type": "display_data",
          "data": {
            "image/png": "[encoded data removed]",
            "text/plain": [
              "<Figure size 640x480 with 1 Axes>"
            ]
          },
          "metadata": {
            "tags": []
          }
        },
        {
          "output_type": "execute_result",
          "data": {
            "text/plain": [
              "<ggplot: (8762202602237)>"
            ]
          },
          "metadata": {
            "tags": []
          },
          "execution_count": 10
        }
      ]
    },
    {
      "cell_type": "markdown",
      "metadata": {
        "id": "ia02lMGqwQe3"
      },
      "source": [
        "**Regresión múltiple**"
      ]
    },
    {
      "cell_type": "code",
      "metadata": {
        "colab": {
          "base_uri": "https://localhost:8080/"
        },
        "id": "mvB0TPO5wLoP",
        "outputId": "9ae8b1f5-6e4a-4a85-e837-e3126fe7f7d3"
      },
      "source": [
        "datos = pd.read_csv(\"medidas_cuerpo2.csv\")\n",
        "lm2 = smf.ols(formula = \"Peso~Estatura+circun_cuello+circun_muneca\", data = datos).fit()\n",
        "n=datos.shape[0]\n",
        "p=4\n",
        "lm2.params\n"
      ],
      "execution_count": 26,
      "outputs": [
        {
          "output_type": "execute_result",
          "data": {
            "text/plain": [
              "Intercept       -62.018297\n",
              "Estatura          9.440395\n",
              "circun_cuello     2.258735\n",
              "circun_muneca     1.989082\n",
              "dtype: float64"
            ]
          },
          "metadata": {
            "tags": []
          },
          "execution_count": 26
        }
      ]
    },
    {
      "cell_type": "code",
      "metadata": {
        "colab": {
          "base_uri": "https://localhost:8080/"
        },
        "id": "cE_FE8W9wYka",
        "outputId": "38bc711b-6bdb-46d0-a1ac-eead24658dbe"
      },
      "source": [
        "lm2.params"
      ],
      "execution_count": 12,
      "outputs": [
        {
          "output_type": "execute_result",
          "data": {
            "text/plain": [
              "Intercept       -62.018297\n",
              "Estatura          9.440395\n",
              "circun_cuello     2.258735\n",
              "circun_muneca     1.989082\n",
              "dtype: float64"
            ]
          },
          "metadata": {
            "tags": []
          },
          "execution_count": 12
        }
      ]
    },
    {
      "cell_type": "code",
      "metadata": {
        "id": "PSZRqls1wUWL"
      },
      "source": [
        "influence_rlm = lm2.get_influence()\n",
        "resid_student_rlm = influence_rlm .resid_studentized_external\n",
        "(cooks_rlm, p_cooks_rlm) = influence_rlm.cooks_distance\n",
        "(dffits_rlm, p_dffits_rlm) = influence_rlm.dffits\n",
        "leverage_rlm = influence_rlm.hat_matrix_diag\n"
      ],
      "execution_count": 27,
      "outputs": []
    },
    {
      "cell_type": "code",
      "metadata": {
        "id": "NVF1FMN0wk0o"
      },
      "source": [
        "datos[['outlier_residstud_rlm']] = np.where(abs(resid_student_rlm) >= 2, 1, 0)\n",
        "datos[['outlier_cook_rlm']] = np.where(cooks_rlm >= 4 /(n-2-2), 1, 0)\n",
        "datos[['outlier_dffit_rlm']] = np.where(dffits_rlm > 2 * np.sqrt(p/n), 1, 0)\n",
        "datos[['influential_hat_rlm']] = np.where(leverage_rlm >= 2*p/n, 1, 0)\n"
      ],
      "execution_count": 28,
      "outputs": []
    },
    {
      "cell_type": "code",
      "metadata": {
        "colab": {
          "base_uri": "https://localhost:8080/",
          "height": 131
        },
        "id": "ST_C9hXuwmko",
        "outputId": "74351ee5-7780-4c24-b803-bc5c6577bf18"
      },
      "source": [
        "df_outliers = datos.query('outlier_residstud_rlm == 1 | outlier_cook_rlm == 1 | outlier_dffit_rlm == 1')\n",
        "df_outliers\n"
      ],
      "execution_count": 29,
      "outputs": [
        {
          "output_type": "execute_result",
          "data": {
            "text/html": [
              "<div>\n",
              "<style scoped>\n",
              "    .dataframe tbody tr th:only-of-type {\n",
              "        vertical-align: middle;\n",
              "    }\n",
              "\n",
              "    .dataframe tbody tr th {\n",
              "        vertical-align: top;\n",
              "    }\n",
              "\n",
              "    .dataframe thead th {\n",
              "        text-align: right;\n",
              "    }\n",
              "</style>\n",
              "<table border=\"1\" class=\"dataframe\">\n",
              "  <thead>\n",
              "    <tr style=\"text-align: right;\">\n",
              "      <th></th>\n",
              "      <th>ID</th>\n",
              "      <th>Peso</th>\n",
              "      <th>Sexo</th>\n",
              "      <th>Estatura</th>\n",
              "      <th>circun_cuello</th>\n",
              "      <th>circun_muneca</th>\n",
              "      <th>outlier_residstud_rlm</th>\n",
              "      <th>outlier_cook_rlm</th>\n",
              "      <th>outlier_dffit_rlm</th>\n",
              "      <th>influential_hat_rlm</th>\n",
              "    </tr>\n",
              "  </thead>\n",
              "  <tbody>\n",
              "    <tr>\n",
              "      <th>7</th>\n",
              "      <td>8</td>\n",
              "      <td>69.2</td>\n",
              "      <td>M</td>\n",
              "      <td>1.78</td>\n",
              "      <td>40.5</td>\n",
              "      <td>16.5</td>\n",
              "      <td>0</td>\n",
              "      <td>1</td>\n",
              "      <td>0</td>\n",
              "      <td>0</td>\n",
              "    </tr>\n",
              "    <tr>\n",
              "      <th>10</th>\n",
              "      <td>11</td>\n",
              "      <td>102.2</td>\n",
              "      <td>M</td>\n",
              "      <td>1.79</td>\n",
              "      <td>41.5</td>\n",
              "      <td>17.1</td>\n",
              "      <td>1</td>\n",
              "      <td>1</td>\n",
              "      <td>1</td>\n",
              "      <td>0</td>\n",
              "    </tr>\n",
              "  </tbody>\n",
              "</table>\n",
              "</div>"
            ],
            "text/plain": [
              "    ID   Peso Sexo  ...  outlier_cook_rlm  outlier_dffit_rlm  influential_hat_rlm\n",
              "7    8   69.2    M  ...                 1                  0                    0\n",
              "10  11  102.2    M  ...                 1                  1                    0\n",
              "\n",
              "[2 rows x 10 columns]"
            ]
          },
          "metadata": {
            "tags": []
          },
          "execution_count": 29
        }
      ]
    },
    {
      "cell_type": "code",
      "metadata": {
        "colab": {
          "base_uri": "https://localhost:8080/",
          "height": 111
        },
        "id": "qLyII6nYwqzk",
        "outputId": "dee3ec28-02a4-462f-f923-2cd46224e766"
      },
      "source": [
        "df_outliers = df_outliers.drop(['outlier_residstud_rlm','outlier_cook_rlm', 'outlier_dffit_rlm', 'influential_hat_rlm'], 1)\n",
        "df_outliers\n"
      ],
      "execution_count": 30,
      "outputs": [
        {
          "output_type": "execute_result",
          "data": {
            "text/html": [
              "<div>\n",
              "<style scoped>\n",
              "    .dataframe tbody tr th:only-of-type {\n",
              "        vertical-align: middle;\n",
              "    }\n",
              "\n",
              "    .dataframe tbody tr th {\n",
              "        vertical-align: top;\n",
              "    }\n",
              "\n",
              "    .dataframe thead th {\n",
              "        text-align: right;\n",
              "    }\n",
              "</style>\n",
              "<table border=\"1\" class=\"dataframe\">\n",
              "  <thead>\n",
              "    <tr style=\"text-align: right;\">\n",
              "      <th></th>\n",
              "      <th>ID</th>\n",
              "      <th>Peso</th>\n",
              "      <th>Sexo</th>\n",
              "      <th>Estatura</th>\n",
              "      <th>circun_cuello</th>\n",
              "      <th>circun_muneca</th>\n",
              "    </tr>\n",
              "  </thead>\n",
              "  <tbody>\n",
              "    <tr>\n",
              "      <th>7</th>\n",
              "      <td>8</td>\n",
              "      <td>69.2</td>\n",
              "      <td>M</td>\n",
              "      <td>1.78</td>\n",
              "      <td>40.5</td>\n",
              "      <td>16.5</td>\n",
              "    </tr>\n",
              "    <tr>\n",
              "      <th>10</th>\n",
              "      <td>11</td>\n",
              "      <td>102.2</td>\n",
              "      <td>M</td>\n",
              "      <td>1.79</td>\n",
              "      <td>41.5</td>\n",
              "      <td>17.1</td>\n",
              "    </tr>\n",
              "  </tbody>\n",
              "</table>\n",
              "</div>"
            ],
            "text/plain": [
              "    ID   Peso Sexo  Estatura  circun_cuello  circun_muneca\n",
              "7    8   69.2    M      1.78           40.5           16.5\n",
              "10  11  102.2    M      1.79           41.5           17.1"
            ]
          },
          "metadata": {
            "tags": []
          },
          "execution_count": 30
        }
      ]
    },
    {
      "cell_type": "code",
      "metadata": {
        "id": "BDaNThqDSrC4"
      },
      "source": [
        ""
      ],
      "execution_count": null,
      "outputs": []
    }
  ]
}