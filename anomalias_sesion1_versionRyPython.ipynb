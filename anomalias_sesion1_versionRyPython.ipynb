{
  "nbformat": 4,
  "nbformat_minor": 0,
  "metadata": {
    "colab": {
      "name": "anomalias_sesion1_versionRyPython.ipynb",
      "provenance": []
    },
    "kernelspec": {
      "name": "python3",
      "display_name": "Python 3"
    },
    "language_info": {
      "name": "python"
    }
  },
  "cells": [
    {
      "cell_type": "markdown",
      "metadata": {
        "id": "xDxuro4gcNMA"
      },
      "source": [
        "# \"Análisis de Anomalías\"\n",
        "\n",
        "##*Jose Fernando Zea y Fernando López-Torrijos*\n",
        "\n",
        "\n",
        "6 de abril de 2021\n",
        "\n",
        "*Adaptado a google colab por Alejandro Herrera López*\n"
      ]
    },
    {
      "cell_type": "code",
      "metadata": {
        "id": "2249cy8POZ-T"
      },
      "source": [
        "# activate R magic\n",
        "%%capture\n",
        "%load_ext rpy2.ipython"
      ],
      "execution_count": null,
      "outputs": []
    },
    {
      "cell_type": "code",
      "metadata": {
        "id": "mYefXHa3PKVW"
      },
      "source": [
        "%%capture\n",
        "%%R\n",
        "library(ggplot2)\n",
        "library(reticulate)\n",
        "matplotlib <- import('matplotlib')\n",
        "matplotlib$use('Agg', force = TRUE)"
      ],
      "execution_count": null,
      "outputs": []
    },
    {
      "cell_type": "markdown",
      "metadata": {
        "id": "fv1DUpr2PdVN"
      },
      "source": [
        " Prólogo\n",
        "\n",
        "En español se define anomalía como \"Desviación o discrepancia de una regla o de un uso\". En inglés lo definen como \"something that is unusual enough to be noticeable or seem strange\". Según Aggarwal (2017) un outlier es un punto que difiere significativamente de los demás puntos o si difiere del mecanismo generador de los datos.\n",
        "\n",
        "Podría hablarse de muchos tipos de anomalías dentro de un conjunto de datos:\n",
        "\n",
        "- Datos faltantes\n",
        "\n",
        "- Valores no probables (¿error de digitación?)\n",
        "\n",
        "- Valores atípicos\n",
        "\n",
        "- No respuesta\n",
        "\n",
        "- Formato incorrecto\n",
        "\n",
        "Algunos definen los datos atípicos como datos muy *grandes* o muy *pequeños* comparados con el grueso del conjunto de datos. Son observaciones con un comportamiento extraño porque toman valores que no se esperan. Pero esos datos es mejor denominarlos *valores extremos*.\n",
        "\n",
        "Este documento se centra en las *anomalías*, distinguiendo éstas del ruido aleatorio, que también puede generar algunos **valores atípicos**. La separación entre ruido aleatorio y dato anómalo no es siempre clara.\n",
        "\n",
        "El dato en color rojo de la Figura 1 está dentro de la tendencia de los demás datos, pero es significativamente grande respecto a los restantes mirado desde el punto de vista de la variable $x$. Desde el punto de vista de la variable $y$, podría tratarse de un valor indistingible. Podría tratarse de un dato aislado alto pero válido o podría tratarse de un dato anómalo.\n",
        "\n",
        "El dato en color rojo de la Figura 2 está fuera de la tendencia. Dentro de una mirada a sólo la variable $x$, no resalta. Dentro de solo la variable $y$ tampoco. Sólo en la dimensión conjunta $x,y$ se observa su anomalía.\n",
        "\n",
        "El dato en color rojo de la Figura 3 se presentaría tanto en $x$ como un dato anómalo en medio de dos conglomerados de datos. Respecto a la variable $y$, tal vez sería indistinguible. Es un dato anómalo desde la dimensión conjunta $x,y$."
      ]
    },
    {
      "cell_type": "code",
      "metadata": {
        "colab": {
          "base_uri": "https://localhost:8080/",
          "height": 497
        },
        "id": "gKYT7jG8PfUm",
        "outputId": "05c6354e-af66-4e9a-803e-48e06a79d874"
      },
      "source": [
        "%%R\n",
        "x <- rnorm(n = 100, mean = 160, sd = 6)\n",
        "y <- 0.1 + 0.4 * x + rnorm(n = 100, mean = 0, sd = 1)\n",
        "plot(x, y, pch = 20, xlim = c(120, 210), ylim = c(0, 80), col = 'steelblue')\n",
        "points(200, 0.1 + 0.4 * 195, col = \"red\", pch = 20)"
      ],
      "execution_count": null,
      "outputs": [
        {
          "output_type": "display_data",
          "data": {
            "image/png": "[encoded data removed]"
          },
          "metadata": {
            "tags": []
          }
        }
      ]
    },
    {
      "cell_type": "markdown",
      "metadata": {
        "id": "ULOSUuBvTczm"
      },
      "source": [
        "**Figure 1: Dato extremo**"
      ]
    },
    {
      "cell_type": "code",
      "metadata": {
        "colab": {
          "base_uri": "https://localhost:8080/",
          "height": 497
        },
        "id": "zrJyXz2IPpU1",
        "outputId": "d9381940-c307-4dbd-ad80-ea4fe82efd48"
      },
      "source": [
        "%%R\n",
        "x <- rnorm(n = 100, mean = 160, sd = 6)\n",
        "y <- 0.1 + 0.4 * x + rnorm(n = 100, mean = 0, sd = 1)\n",
        "plot(x, y, pch = 20, col = 'steelblue')\n",
        "points(155, 70, col = \"red\", pch = 20)"
      ],
      "execution_count": null,
      "outputs": [
        {
          "output_type": "display_data",
          "data": {
            "image/png": "[encoded data removed]"
          },
          "metadata": {
            "tags": []
          }
        }
      ]
    },
    {
      "cell_type": "markdown",
      "metadata": {
        "id": "QkeNihoGTfrM"
      },
      "source": [
        "**Figure 2: Dato fuera de la tendencia**"
      ]
    },
    {
      "cell_type": "code",
      "metadata": {
        "colab": {
          "base_uri": "https://localhost:8080/",
          "height": 497
        },
        "id": "-DNwaoYHTzlM",
        "outputId": "054e26d2-0ccc-4433-8f94-53ab402a522f"
      },
      "source": [
        "%%R\n",
        "x1 <- runif(n = 100, min = 2, max = 6)\n",
        "y1 <- runif(n = 100, min = 4, max = 9)\n",
        "x2 <- runif(n = 100, min = 10, max = 15)\n",
        "y2 <- runif(n = 100, min = 12, max = 16)\n",
        "x3 <- 8\n",
        "y3 <- 10\n",
        "x <- c(x1, x2, x3)\n",
        "y <- c(y1, y2, y3)\n",
        "plot(x, y, pch = 20, col = 'steelblue')\n",
        "points(x3, y3, pch = 20, col = \"red\")"
      ],
      "execution_count": null,
      "outputs": [
        {
          "output_type": "display_data",
          "data": {
            "image/png": "[encoded data removed]"
          },
          "metadata": {
            "tags": []
          }
        }
      ]
    },
    {
      "cell_type": "markdown",
      "metadata": {
        "id": "tpKxJ7RAUE8S"
      },
      "source": [
        "**Figure 3: Dato intermedio**"
      ]
    },
    {
      "cell_type": "markdown",
      "metadata": {
        "id": "G_8Z5R9nP1Se"
      },
      "source": [
        "# Aplicaciones\n",
        "\n",
        "* Sistema de detección de intrusiones: transacciones bancarías anómalas (demasiados movimientos en una cuenta), actividad inusual en una red de telefonía móvil.  \n",
        "* Fraude de tarjeta de crédito: localizaciones, movimientos inusuales.\n",
        "Eventos obtenidos a partir de sensores: comportamientos extraños que pueden estar asociados al mal funcionamiento de un dispositivo.  \n",
        "* Diagnóstico médico: imágenes de resonancia magnética, tomografías, electrocardiogramas pueden estar asociadas a detección de enfermedades.  \n",
        "* Incumplimiento de la ley: reclamaciones de seguros, actividad de trading, movimientos financieros.  \n",
        "* Ciencias de la tierra: anomalías ambientales, uso del suelo, condiciones ambientales anómalas.  \n",
        "* Procesamiento de imágenes: Eliminación de la pixelación que impide una mejor interpretación de una imagen.\n",
        "\n",
        "# Presentación de las técnicas tradicionales o más usuales.\n",
        "\n",
        "## Análisis variable a variable.\n",
        "\n",
        "El primer caso que se trabaja es la definición de un dato anómalo cuando se trabaja con una única variable a la vez.\n",
        "\n",
        "El primer contexto en el que se encuentran es en el diagrama de caja o boxplot."
      ]
    },
    {
      "cell_type": "code",
      "metadata": {
        "id": "L8thGje9PwAe"
      },
      "source": [
        "%%R\n",
        "datos <- c(103.1, 82.1, 106.2, 100.9, 91.8, 96.1, 126.9, 119.8, 93.1, 86.8, \n",
        "           75.2, 93, 82.3, 94.8, 64.2, 105.3, 108, 86.3, 81.8, 179.1, 138.1, \n",
        "           92.5, 66.3, 66.6, 142.2, 96.5, 74.8, 95.4, 100.1, 81.9, 112, 116.8,\n",
        "           103.2, 66.1, 60.4, 78.7)"
      ],
      "execution_count": null,
      "outputs": []
    },
    {
      "cell_type": "code",
      "metadata": {
        "colab": {
          "base_uri": "https://localhost:8080/",
          "height": 497
        },
        "id": "EG2hfir6VWff",
        "outputId": "2cc6bcb9-80f8-49a5-a696-3aede913dfef"
      },
      "source": [
        "%%R\n",
        "g <- boxplot(datos, col = 'gray', ylab = '', cex.axis = 0.8, cex.lab = 0.8, outline = T, boxwex = 0.5)\n",
        "text(x = 1.37, y = g$stats[nrow(g$stats),] - 32, 'Cuartil superior - q3', cex = 0.8)\n",
        "text(x = 1.37, y = g$stats[nrow(g$stats),] - 58, 'Cuartil inferior - q1', cex = 0.8)\n",
        "text(x = 1.37, y = g$stats[nrow(g$stats),] - 45, 'Mediana - q2         ', cex = 0.8)\n",
        "text(x = 1.37, y = g$stats[nrow(g$stats),] + 25, 'Outliers', cex = 0.8)\n",
        "text(x = 1.37, y = g$stats[nrow(g$stats),] + 0, 'Máximo - excluy. outliers', cex = 0.8)\n",
        "text(x = 1.37, y = g$stats[nrow(g$stats),] - 77, 'Mínimo - excluy. outliers', cex = 0.8)"
      ],
      "execution_count": null,
      "outputs": [
        {
          "output_type": "display_data",
          "data": {
            "image/png": "[encoded data removed]"
          },
          "metadata": {
            "tags": []
          }
        }
      ]
    },
    {
      "cell_type": "markdown",
      "metadata": {
        "id": "GgsPa_gjWNs-"
      },
      "source": [
        "**Figure 4: Elementos de un diagrama de caja**"
      ]
    },
    {
      "cell_type": "markdown",
      "metadata": {
        "id": "jRw-eBBRQCpn"
      },
      "source": [
        "El Diagrama de caja se construye con base en los cuartiles (ver Figura 4):\n",
        "\n",
        "Cuartil 1 (q1): valor a partir del cual el 25% de los datos tienen un valor menor a éste.  O leído al revés, el valor a partir del cual el 75% de los datos tienen un valor mayor a éste.\n",
        "\n",
        "Ojo. El 25% hace referencia a la cantidad de datos, no a sus valores.\n",
        "\n",
        "Cuartil 2 (q2): valor a partir del cual el 50% de los datos tienen un valor menor. Se denomina también mediana. Es un valor robusto frente a datos extremos, es decir, no se afecta por la presencia de datos extremos.\n",
        "\n",
        "Cuartil 3 (q3): valor a partir del cual el 75% de los datos tienen un valor menor a éste. O leído al revés, el valor a partir del cual el 25% de los datos tienen un valor mayor a éste.\n",
        "\n",
        "Rango intercuartil (RI): La diferencia entre el cuartil 3 y el 1. $RI = q3 - q1$"
      ]
    },
    {
      "cell_type": "code",
      "metadata": {
        "id": "1Z4BVR75QEnF"
      },
      "source": [
        "%%R\n",
        "q1 <- round(quantile(datos, .25), 1)\n",
        "q2 <- round(quantile(datos, .50), 1)\n",
        "q3 <- round(quantile(datos, .75), 1)\n",
        "RI <- q3 - q1 "
      ],
      "execution_count": null,
      "outputs": []
    },
    {
      "cell_type": "markdown",
      "metadata": {
        "id": "tdkE67UWQXj1"
      },
      "source": [
        "Bajo las reglas de Tukey, un estadístico activo en las décadas del 40 al 80 del siglo XX, y quien popularizó los diagramas de caja, todo dato que está alejado más de $1.5$ veces el $RI$ del cuartil más cercano se dice que es un dato *atípico*. Un dato atípico lo denominan *extremo* si está ubicado a una distancia mayor de $3$ veces el $RI$ del cuartil más cercano y se llama *moderado* en caso contrario."
      ]
    },
    {
      "cell_type": "code",
      "metadata": {
        "id": "V_5-T4nkQjB2"
      },
      "source": [
        "%%R\n",
        "atipico_extremo <- c(datos[datos > q3 + 3*RI], datos[datos < q1 - 3*RI])\n",
        "atipico_moderado <- c(datos[datos > q3 + 1.5*RI], datos[datos < q1 - 1.5*RI])\n",
        "atipico_moderado <- atipico_moderado[!(atipico_moderado %in% atipico_extremo)]"
      ],
      "execution_count": null,
      "outputs": []
    },
    {
      "cell_type": "markdown",
      "metadata": {
        "id": "zimdcn2qQuMF"
      },
      "source": [
        "Sobre el conjunto de datos que generó el diagrama del ejemplo 4, hay dos círculos que reflejan los datos atípicos.\n",
        "\n",
        "Atípico moderado: `r atipico_moderado`\n",
        "\n",
        "Atípico extremo: `r atipico_extremo`\n",
        "\n",
        "Los cuartiles de la Figura 4 son: `r q1`, `r q2`, `r q3`\n",
        "\n",
        "# Regla empírica de Tukey\n",
        "\n",
        "Tukey en los años 60 construyó una regla para identificar valores extremos en datos con distribuciones gausianas o normales, para esto se basó en el uso de dos cantidades conocidas como bisagras o bigotes (hinges/whiskers en la lieratura anglosajona). \n",
        "\n",
        "El bigote inferior se calcula como $LW = q_{1} - k \\times RI$ Es decir, el bigote inferior (lower whisker) se calcula como el percentil 25 (o primer cuartil) menos k veces el rango intercuartílico (RI). Tukey propuso como valor de k = 1,5.\n",
        "\n",
        "SI LW es menor al mínimo de los datos el valor que finalmente se deja como bigote inferior es el mínimo. Es decir, $$LW = max(min(x),  q_{1} - k \\times RI)$$\n",
        "\n",
        "El bigote superior se calcula como: $$UW = min(max(x), q_{3} + k \\times RI)$$"
      ]
    },
    {
      "cell_type": "code",
      "metadata": {
        "id": "OjfVWOkYQwWf"
      },
      "source": [
        "%%R\n",
        "RI <- qnorm(0.75) - qnorm(0.25)\n",
        "lw <- qnorm(0.25) - 1.5*RI\n",
        "uw <- qnorm(0.75) + 1.5*RI\n",
        "p <- round(pnorm(lw) + pnorm(uw, lower.tail = F), 6)"
      ],
      "execution_count": null,
      "outputs": []
    },
    {
      "cell_type": "markdown",
      "metadata": {
        "id": "6s-_GhskRFP1"
      },
      "source": [
        "$$\n",
        "y(\\lambda)=\n",
        "\\begin{cases}\n",
        "\\frac{x^\\lambda - 1}{\\lambda}, \\text{Sí } \\lambda \\neq 0\\\\\n",
        "log(\\lambda), \\text{Sí}  \\lambda = 0\n",
        "\\end{cases}\n",
        "$$"
      ]
    },
    {
      "cell_type": "markdown",
      "metadata": {
        "id": "ndv4165rRPZF"
      },
      "source": [
        "Ilustraremos la transformación de Box - Cox con un ejemplo en python:"
      ]
    },
    {
      "cell_type": "code",
      "metadata": {
        "id": "gi7_-bIKRMJ9"
      },
      "source": [
        "import os\n",
        "import pandas as pd\n",
        "import numpy as np\n",
        "from scipy import stats\n",
        "import matplotlib.pyplot as plt\n",
        "import seaborn as sns\n",
        "from sklearn import datasets\n",
        "from scipy.stats import t, zscore\n",
        "import random"
      ],
      "execution_count": null,
      "outputs": []
    },
    {
      "cell_type": "markdown",
      "metadata": {
        "id": "tB6ktJ77RU-T"
      },
      "source": [
        "Simularemos una distribución asimétrica a la izquierda:\n"
      ]
    },
    {
      "cell_type": "code",
      "metadata": {
        "colab": {
          "base_uri": "https://localhost:8080/"
        },
        "id": "F9Q4-WAYRYOT",
        "outputId": "8f341941-ca24-464c-d8bc-d44e35036d22"
      },
      "source": [
        "# Gnerar una distribución asimétrica (una exponencial en particular)\n",
        "np.random.seed(0)\n",
        "x = np.random.exponential(size = 1000)\n",
        "np.mean(x), np.var(x)"
      ],
      "execution_count": null,
      "outputs": [
        {
          "output_type": "execute_result",
          "data": {
            "text/plain": [
              "(1.003540208760709, 1.0590341339276639)"
            ]
          },
          "metadata": {
            "tags": []
          },
          "execution_count": 12
        }
      ]
    },
    {
      "cell_type": "code",
      "metadata": {
        "id": "7K67hRC3Rre1"
      },
      "source": [
        "# Transformación de Box-Cox (Dupla: arreglo de valores transformados y lambda)\n",
        "y, fitted_lambda = stats.boxcox(x)"
      ],
      "execution_count": null,
      "outputs": []
    },
    {
      "cell_type": "markdown",
      "metadata": {
        "id": "y4qD8E9tRxbZ"
      },
      "source": [
        "Se compara la distribución original con la transformada mediante Box - Cox"
      ]
    },
    {
      "cell_type": "code",
      "metadata": {
        "colab": {
          "base_uri": "https://localhost:8080/",
          "height": 666
        },
        "id": "pT71M-CERu3W",
        "outputId": "46d11751-07da-4003-dc36-e7bc29a02c51"
      },
      "source": [
        "# crear ejes para el gráfico: 1 fila 2 columnas\n",
        "fig, ax = plt.subplots(1, 2)\n",
        "# graficando la variable en su manera original y luego de transformada\n",
        "sns.distplot(x, hist = False, kde = True,\n",
        "            kde_kws = {'shade': True, 'linewidth': 2}, \n",
        "            label = \"Non-Normal\", color =\"green\", ax = ax[0])\n",
        "  \n",
        "sns.distplot(y, hist = False, kde = True,\n",
        "            kde_kws = {'shade': True, 'linewidth': 2}, \n",
        "            label = \"Normal\", color =\"green\", ax = ax[1])\n",
        "  \n",
        "# Anadiendo leyenda a los gráficos\n",
        "plt.legend(loc = \"upper right\")\n",
        "  \n",
        "# re-escalando los subplots\n",
        "fig.set_figheight(5)\n",
        "fig.set_figwidth(10)\n",
        "plt.show()\n",
        "# Se restituyen los valores a 1 fila 1 columna para los plots\n",
        "fig, ax = plt.subplots(1, 1)"
      ],
      "execution_count": null,
      "outputs": [
        {
          "output_type": "stream",
          "text": [
            "/usr/local/lib/python3.7/dist-packages/seaborn/distributions.py:2557: FutureWarning: `distplot` is a deprecated function and will be removed in a future version. Please adapt your code to use either `displot` (a figure-level function with similar flexibility) or `kdeplot` (an axes-level function for kernel density plots).\n",
            "  warnings.warn(msg, FutureWarning)\n",
            "/usr/local/lib/python3.7/dist-packages/seaborn/distributions.py:2557: FutureWarning: `distplot` is a deprecated function and will be removed in a future version. Please adapt your code to use either `displot` (a figure-level function with similar flexibility) or `kdeplot` (an axes-level function for kernel density plots).\n",
            "  warnings.warn(msg, FutureWarning)\n"
          ],
          "name": "stderr"
        },
        {
          "output_type": "display_data",
          "data": {
            "image/png": "[encoded data removed]",
            "text/plain": [
              "<Figure size 720x360 with 2 Axes>"
            ]
          },
          "metadata": {
            "tags": [],
            "needs_background": "light"
          }
        },
        {
          "output_type": "display_data",
          "data": {
            "image/png": "[encoded data removed]",
            "text/plain": [
              "<Figure size 432x288 with 1 Axes>"
            ]
          },
          "metadata": {
            "tags": [],
            "needs_background": "light"
          }
        }
      ]
    },
    {
      "cell_type": "code",
      "metadata": {
        "colab": {
          "base_uri": "https://localhost:8080/"
        },
        "id": "insUR24MR8Cl",
        "outputId": "a8304f44-d798-4274-cdeb-d171ea9cde10"
      },
      "source": [
        "print(f\"Lambda utilizado para la transformación: {fitted_lambda}\")"
      ],
      "execution_count": null,
      "outputs": [
        {
          "output_type": "stream",
          "text": [
            "Lambda utilizado para la transformación: 0.2420131978174143\n"
          ],
          "name": "stdout"
        }
      ]
    },
    {
      "cell_type": "markdown",
      "metadata": {
        "id": "2-oco0PuSA7F"
      },
      "source": [
        "**Ejercicio**: se ilustra la identificación de atípicos con la base de datos iris. Se utiliza para la demostración la variable Sepal.Length. Dada la aparentemente normalidad de los datos se detectarán directamente los *outliers* mediante la regla de Tukey.\n",
        "\n",
        "Python no tiene una función para su cálculo, así que se crea la función *fivenum* para que genere calcule y entregue los cinco números de Tukey: bigote inferior, primer cuartil, mediana, tercer cuartil y bigote superior, para una lista, arreglo univariado de numpy o serie de pandas.\n"
      ]
    },
    {
      "cell_type": "code",
      "metadata": {
        "id": "MInapI10SDel"
      },
      "source": [
        "def fivenum(x, range = 1.5, nan_remove = True):\n",
        "    \"\"\"Devuelve los cinco números de Tukey (mínimo, bigote inferior, mediana,\n",
        "    bigote superior, maximo) para una lista, arreglo univariado de numpy o serie de pandas\"\"\"\n",
        "    \n",
        "    if(isinstance(x, list)):\n",
        "        x = np.array(x)\n",
        "    try:\n",
        "        np.sum(x)\n",
        "    except TypeError:\n",
        "        print('Error: debe proveer una lista o un arreglo de sólo números')\n",
        "    if(nan_remove == True):\n",
        "        y = x[~np.isnan(x)]    \n",
        "        q1 = np.percentile(y, 25)\n",
        "        q3 = np.percentile(y,75)\n",
        "        md = np.median(y)\n",
        "        RI = q3-q1\n",
        "        lower_whisker = q1 - 1.5 * RI\n",
        "        upper_whisker = q3 + 1.5 * RI\n",
        "        lower_whisker = np.max([lower_whisker, np.min(y)])\n",
        "        upper_whisker = np.min([upper_whisker, np.max(y)])\n",
        "        \n",
        "    else:\n",
        "        q1 = np.percentile(x, 25)\n",
        "        q3 = np.percentile(x,75)\n",
        "        md = np.median(x)\n",
        "        RI = q3-q1\n",
        "        lower_whisker = q1 - 1.5 * RI\n",
        "        upper_whisker = q3 + 1.5 * RI\n",
        "        lower_whisker = np.max([lower_whisker, np.min(x)])\n",
        "        upper_whisker = np.min([upper_whisker, np.max(x)])\n",
        "    \n",
        "    salida = np.array([lower_whisker, q1, md, q3, upper_whisker])       \n",
        "    return salida"
      ],
      "execution_count": null,
      "outputs": []
    },
    {
      "cell_type": "markdown",
      "metadata": {
        "id": "N8fYQTK6SIWI"
      },
      "source": [
        "\n",
        "Se cargan los datos para el ejemplo:\n"
      ]
    },
    {
      "cell_type": "code",
      "metadata": {
        "id": "Mu-xiT7eSL2r"
      },
      "source": [
        "iris = datasets.load_iris()\n",
        "iris_df = pd.DataFrame(iris.data, columns=iris.feature_names)\n",
        "iris_df['target'] = iris['target']\n",
        "iris_df.columns = ['sepal_length', 'sepal_width', 'petal_length',\n",
        "       'petal_width', 'species']"
      ],
      "execution_count": null,
      "outputs": []
    },
    {
      "cell_type": "markdown",
      "metadata": {
        "id": "IQHEaIxzSSv1"
      },
      "source": [
        "Se calculan los 5 números de Tukey y se guardan en la variable *fnums*:"
      ]
    },
    {
      "cell_type": "code",
      "metadata": {
        "colab": {
          "base_uri": "https://localhost:8080/"
        },
        "id": "7UfUJv9RSUSh",
        "outputId": "70eee6af-6e61-46c0-fa81-c0a08dafef4c"
      },
      "source": [
        "fnums = fivenum(iris_df.sepal_width)\n",
        "fnums"
      ],
      "execution_count": null,
      "outputs": [
        {
          "output_type": "execute_result",
          "data": {
            "text/plain": [
              "array([2.05, 2.8 , 3.  , 3.3 , 4.05])"
            ]
          },
          "metadata": {
            "tags": []
          },
          "execution_count": 18
        }
      ]
    },
    {
      "cell_type": "markdown",
      "metadata": {
        "id": "3EqTB1z6SaN8"
      },
      "source": [
        "Se crea una nueva variable denominada *outlier_sw* donde se almacena si es o no es un *outlier*. Se imprime el conteo."
      ]
    },
    {
      "cell_type": "code",
      "metadata": {
        "colab": {
          "base_uri": "https://localhost:8080/"
        },
        "id": "ofaduinRSbt0",
        "outputId": "e420352c-64a8-4d97-bd6f-16a1a4ad9b60"
      },
      "source": [
        "iris_df['outlier_sw'] = iris_df['sepal_width'].apply(lambda x: 'outlier' if (x < fnums[0]) | (x > fnums[4]) else 'no_outlier')\n",
        "iris_df.outlier_sw.value_counts()"
      ],
      "execution_count": null,
      "outputs": [
        {
          "output_type": "execute_result",
          "data": {
            "text/plain": [
              "no_outlier    146\n",
              "outlier         4\n",
              "Name: outlier_sw, dtype: int64"
            ]
          },
          "metadata": {
            "tags": []
          },
          "execution_count": 19
        }
      ]
    },
    {
      "cell_type": "markdown",
      "metadata": {
        "id": "lw_Q7UhLSgMv"
      },
      "source": [
        "**Ejemplo de una variable sesgada**\n",
        "\n",
        "Detectar los *outliers* de la variable *Income* de base de datos de empresas Lucy."
      ]
    },
    {
      "cell_type": "code",
      "metadata": {
        "id": "GM5AAVV5SrFL"
      },
      "source": [
        "Lucy = pd.read_csv(\"Lucy.csv\")"
      ],
      "execution_count": null,
      "outputs": []
    },
    {
      "cell_type": "code",
      "metadata": {
        "colab": {
          "base_uri": "https://localhost:8080/",
          "height": 265
        },
        "id": "erCazp9TSueq",
        "outputId": "7d8ba095-24b1-4198-9a71-9b2fcf2f594e"
      },
      "source": [
        "Lucy.Income.hist()\n",
        "plt.show()"
      ],
      "execution_count": null,
      "outputs": [
        {
          "output_type": "display_data",
          "data": {
            "image/png": "[encoded data removed]",
            "text/plain": [
              "<Figure size 432x288 with 1 Axes>"
            ]
          },
          "metadata": {
            "tags": [],
            "needs_background": "light"
          }
        }
      ]
    },
    {
      "cell_type": "markdown",
      "metadata": {
        "id": "zxpw87ubSzVb"
      },
      "source": [
        "Se evidencia que la distribución del ingreso es muy asimétrica a la derecha, por lo tanto se aplica la transformación de Box-Cox y se almacena en la variable *Income_bc*:"
      ]
    },
    {
      "cell_type": "code",
      "metadata": {
        "colab": {
          "base_uri": "https://localhost:8080/",
          "height": 206
        },
        "id": "1bP3PK2MS0nG",
        "outputId": "78a396d1-695a-400a-86f2-36c95afd5229"
      },
      "source": [
        "#  (Dupla: arreglo de valores transformados y lambda)\n",
        "y_income_bc, fitted_lambda_income = stats.boxcox(Lucy.Income)\n",
        "Lucy['Income_bc'] = y_income_bc\n",
        "Lucy.head()"
      ],
      "execution_count": null,
      "outputs": [
        {
          "output_type": "execute_result",
          "data": {
            "text/html": [
              "<div>\n",
              "<style scoped>\n",
              "    .dataframe tbody tr th:only-of-type {\n",
              "        vertical-align: middle;\n",
              "    }\n",
              "\n",
              "    .dataframe tbody tr th {\n",
              "        vertical-align: top;\n",
              "    }\n",
              "\n",
              "    .dataframe thead th {\n",
              "        text-align: right;\n",
              "    }\n",
              "</style>\n",
              "<table border=\"1\" class=\"dataframe\">\n",
              "  <thead>\n",
              "    <tr style=\"text-align: right;\">\n",
              "      <th></th>\n",
              "      <th>ID</th>\n",
              "      <th>Ubication</th>\n",
              "      <th>Level</th>\n",
              "      <th>Zone</th>\n",
              "      <th>Income</th>\n",
              "      <th>Employees</th>\n",
              "      <th>Taxes</th>\n",
              "      <th>SPAM</th>\n",
              "      <th>Income_bc</th>\n",
              "    </tr>\n",
              "  </thead>\n",
              "  <tbody>\n",
              "    <tr>\n",
              "      <th>0</th>\n",
              "      <td>AB001</td>\n",
              "      <td>c1k1</td>\n",
              "      <td>Small</td>\n",
              "      <td>A</td>\n",
              "      <td>281</td>\n",
              "      <td>41</td>\n",
              "      <td>3.0</td>\n",
              "      <td>no</td>\n",
              "      <td>18.293605</td>\n",
              "    </tr>\n",
              "    <tr>\n",
              "      <th>1</th>\n",
              "      <td>AB002</td>\n",
              "      <td>c1k2</td>\n",
              "      <td>Small</td>\n",
              "      <td>A</td>\n",
              "      <td>329</td>\n",
              "      <td>19</td>\n",
              "      <td>4.0</td>\n",
              "      <td>yes</td>\n",
              "      <td>19.521134</td>\n",
              "    </tr>\n",
              "    <tr>\n",
              "      <th>2</th>\n",
              "      <td>AB003</td>\n",
              "      <td>c1k3</td>\n",
              "      <td>Small</td>\n",
              "      <td>A</td>\n",
              "      <td>405</td>\n",
              "      <td>68</td>\n",
              "      <td>7.0</td>\n",
              "      <td>no</td>\n",
              "      <td>21.248675</td>\n",
              "    </tr>\n",
              "    <tr>\n",
              "      <th>3</th>\n",
              "      <td>AB004</td>\n",
              "      <td>c1k4</td>\n",
              "      <td>Small</td>\n",
              "      <td>A</td>\n",
              "      <td>360</td>\n",
              "      <td>89</td>\n",
              "      <td>5.0</td>\n",
              "      <td>no</td>\n",
              "      <td>20.253834</td>\n",
              "    </tr>\n",
              "    <tr>\n",
              "      <th>4</th>\n",
              "      <td>AB005</td>\n",
              "      <td>c1k5</td>\n",
              "      <td>Small</td>\n",
              "      <td>A</td>\n",
              "      <td>391</td>\n",
              "      <td>91</td>\n",
              "      <td>7.0</td>\n",
              "      <td>yes</td>\n",
              "      <td>20.947118</td>\n",
              "    </tr>\n",
              "  </tbody>\n",
              "</table>\n",
              "</div>"
            ],
            "text/plain": [
              "      ID Ubication  Level Zone  Income  Employees  Taxes SPAM  Income_bc\n",
              "0  AB001      c1k1  Small    A     281         41    3.0   no  18.293605\n",
              "1  AB002      c1k2  Small    A     329         19    4.0  yes  19.521134\n",
              "2  AB003      c1k3  Small    A     405         68    7.0   no  21.248675\n",
              "3  AB004      c1k4  Small    A     360         89    5.0   no  20.253834\n",
              "4  AB005      c1k5  Small    A     391         91    7.0  yes  20.947118"
            ]
          },
          "metadata": {
            "tags": []
          },
          "execution_count": 22
        }
      ]
    },
    {
      "cell_type": "markdown",
      "metadata": {
        "id": "UstnBK_gS8NN"
      },
      "source": [
        "El valor de lambda considerado por parte de la función *stats.boxcox* es: "
      ]
    },
    {
      "cell_type": "code",
      "metadata": {
        "colab": {
          "base_uri": "https://localhost:8080/"
        },
        "id": "8e5fw5vNS9ar",
        "outputId": "b4472aac-188a-4fc3-d2bb-b56080107c9c"
      },
      "source": [
        "fitted_lambda_income"
      ],
      "execution_count": null,
      "outputs": [
        {
          "output_type": "execute_result",
          "data": {
            "text/plain": [
              "0.3589008867008163"
            ]
          },
          "metadata": {
            "tags": []
          },
          "execution_count": 23
        }
      ]
    },
    {
      "cell_type": "markdown",
      "metadata": {
        "id": "5Z4SNwCWTCY6"
      },
      "source": [
        "Se guardan los cinco números de Tukey en la variable *fn_income_bc*:\n"
      ]
    },
    {
      "cell_type": "code",
      "metadata": {
        "colab": {
          "base_uri": "https://localhost:8080/"
        },
        "id": "IZzlcKp9TFrK",
        "outputId": "dc75acc6-1463-4a39-b35c-0db1aba0e924"
      },
      "source": [
        "fn_income_bc = fivenum(Lucy.Income_bc)\n",
        "fn_income_bc"
      ],
      "execution_count": null,
      "outputs": [
        {
          "output_type": "execute_result",
          "data": {
            "text/plain": [
              "array([ 5.34786971, 16.8315778 , 20.92531509, 24.48738319, 35.97109128])"
            ]
          },
          "metadata": {
            "tags": []
          },
          "execution_count": 24
        }
      ]
    },
    {
      "cell_type": "markdown",
      "metadata": {
        "id": "IfUobJbGTJIj"
      },
      "source": [
        "Se crea una nueva variable denominada *outlier_Income* donde se almacena si es un outlier. Se imprime el conteo."
      ]
    },
    {
      "cell_type": "code",
      "metadata": {
        "colab": {
          "base_uri": "https://localhost:8080/"
        },
        "id": "QCBXUswbTMdT",
        "outputId": "a78dd05c-2a65-41f6-ef26-976019df4b12"
      },
      "source": [
        "Lucy['outlier_Income'] = Lucy['Income_bc'].apply(lambda x: 'outlier' if (x < fn_income_bc[0]) | (x > fn_income_bc[4]) else 'no_outlier')\n",
        "Lucy.outlier_Income.value_counts()"
      ],
      "execution_count": null,
      "outputs": [
        {
          "output_type": "execute_result",
          "data": {
            "text/plain": [
              "no_outlier    2379\n",
              "outlier         17\n",
              "Name: outlier_Income, dtype: int64"
            ]
          },
          "metadata": {
            "tags": []
          },
          "execution_count": 25
        }
      ]
    },
    {
      "cell_type": "markdown",
      "metadata": {
        "id": "jOCFwzImTQf7"
      },
      "source": [
        "**Ejercicio:**\n",
        "\n",
        "Detectar los valores extremos de la variable *Employees*."
      ]
    }
  ]
}