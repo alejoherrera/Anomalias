{
  "nbformat": 4,
  "nbformat_minor": 0,
  "metadata": {
    "colab": {
      "name": "Boxcox.ipynb",
      "provenance": []
    },
    "kernelspec": {
      "name": "python3",
      "display_name": "Python 3"
    },
    "language_info": {
      "name": "python"
    }
  },
  "cells": [
    {
      "cell_type": "markdown",
      "metadata": {
        "id": "J-qhH9JDc-Mw"
      },
      "source": [
        "Ilustraremos la transformación de Box - Cox con un ejemplo en python:"
      ]
    },
    {
      "cell_type": "code",
      "metadata": {
        "id": "wGcMT45yqnhv"
      },
      "source": [
        "# importar modulos\n",
        "import os\n",
        "import pandas as pd\n",
        "import numpy as np\n",
        "from scipy import stats\n",
        "import matplotlib.pyplot as plt\n",
        "import seaborn as sns\n",
        "from sklearn import datasets\n",
        "from scipy.stats import t, zscore\n",
        "import random"
      ],
      "execution_count": 18,
      "outputs": []
    },
    {
      "cell_type": "markdown",
      "metadata": {
        "id": "_ASsTWChcr7m"
      },
      "source": [
        "Simularemos una distribución asimétrica a la izquierda:"
      ]
    },
    {
      "cell_type": "code",
      "metadata": {
        "colab": {
          "base_uri": "https://localhost:8080/"
        },
        "id": "phJUkOqUZAf4",
        "outputId": "a1273b6c-2fcd-44e1-9d21-d3dcc9fbaee0"
      },
      "source": [
        "# Generar una distribución asimétrica (una exponencial en particular)\n",
        "np.random.seed(0)\n",
        "x = np.random.exponential(size = 1000)\n",
        "np.mean(x), np.var(x)"
      ],
      "execution_count": 19,
      "outputs": [
        {
          "output_type": "execute_result",
          "data": {
            "text/plain": [
              "(1.003540208760709, 1.0590341339276639)"
            ]
          },
          "metadata": {
            "tags": []
          },
          "execution_count": 19
        }
      ]
    },
    {
      "cell_type": "code",
      "metadata": {
        "id": "XyZoMTqhZKls"
      },
      "source": [
        "# Transformación de Box-Cox (Dupla: arreglo de valores transformados y lambda)\n",
        "y, fitted_lambda = stats.boxcox(x)"
      ],
      "execution_count": 20,
      "outputs": []
    },
    {
      "cell_type": "markdown",
      "metadata": {
        "id": "Sibfne83cnLF"
      },
      "source": [
        "Se compara la distribución original con la transformada mediante Box - Cox"
      ]
    },
    {
      "cell_type": "code",
      "metadata": {
        "colab": {
          "base_uri": "https://localhost:8080/",
          "height": 660
        },
        "id": "vTf-CAmyZNUd",
        "outputId": "4c850b33-2987-41cb-9a5f-c2089e33a056"
      },
      "source": [
        "# crear ejes para el gráfico: 1 fila 2 columnas\n",
        "fig, ax = plt.subplots(1, 2)\n",
        "# graficando la variable en su manera original y luego de transformada\n",
        "sns.distplot(x, hist = False, kde = True,\n",
        "kde_kws = {'shade': True, 'linewidth': 2},\n",
        "label = \"Non-Normal\", color =\"green\", ax = ax[0])\n",
        "sns.distplot(y, hist = False, kde = True,\n",
        "kde_kws = {'shade': True, 'linewidth': 2},\n",
        "label = \"Normal\", color =\"green\", ax = ax[1])\n",
        "# Anadiendo leyenda a los gráficos\n",
        "plt.legend(loc = \"upper right\")\n",
        "# re-escalando los subplots\n",
        "fig.set_figheight(5)\n",
        "fig.set_figwidth(10)\n",
        "plt.show()\n",
        "# Se restituyen los valores a 1 fila 1 columna para los plots\n",
        "fig, ax = plt.subplots(1, 1)"
      ],
      "execution_count": 23,
      "outputs": [
        {
          "output_type": "stream",
          "text": [
            "/usr/local/lib/python3.7/dist-packages/seaborn/distributions.py:2557: FutureWarning: `distplot` is a deprecated function and will be removed in a future version. Please adapt your code to use either `displot` (a figure-level function with similar flexibility) or `kdeplot` (an axes-level function for kernel density plots).\n",
            "  warnings.warn(msg, FutureWarning)\n",
            "/usr/local/lib/python3.7/dist-packages/seaborn/distributions.py:2557: FutureWarning: `distplot` is a deprecated function and will be removed in a future version. Please adapt your code to use either `displot` (a figure-level function with similar flexibility) or `kdeplot` (an axes-level function for kernel density plots).\n",
            "  warnings.warn(msg, FutureWarning)\n"
          ],
          "name": "stderr"
        },
        {
          "output_type": "display_data",
          "data": {
            "image/png": "[encoded data removed]",
            "text/plain": [
              "<Figure size 720x360 with 2 Axes>"
            ]
          },
          "metadata": {
            "tags": [],
            "needs_background": "light"
          }
        },
        {
          "output_type": "display_data",
          "data": {
            "image/png": "[encoded data removed]",
            "text/plain": [
              "<Figure size 432x288 with 1 Axes>"
            ]
          },
          "metadata": {
            "tags": [],
            "needs_background": "light"
          }
        }
      ]
    },
    {
      "cell_type": "code",
      "metadata": {
        "colab": {
          "base_uri": "https://localhost:8080/"
        },
        "id": "PoZ7EUgSZmac",
        "outputId": "7c461dc9-0d07-4d8e-de49-846d1ac6a47d"
      },
      "source": [
        "print(f\"Lambda utilizado para la transformación: {fitted_lambda}\")"
      ],
      "execution_count": 24,
      "outputs": [
        {
          "output_type": "stream",
          "text": [
            "Lambda utilizado para la transformación: 0.2420131978174143\n"
          ],
          "name": "stdout"
        }
      ]
    },
    {
      "cell_type": "markdown",
      "metadata": {
        "id": "SVR8OW7FcjAO"
      },
      "source": [
        "Ejercicio: se ilustra la identificación de atípicos con la base de datos iris. Se utiliza para la demostración\n",
        "la variable Sepal.Length. Dada la aparentemente normalidad de los datos se detectarán directamente los\n",
        "outliers mediante la regla de Tukey.\n",
        "Python no tiene una función para su cálculo, así que se crea la función fivenum para que genere calcule\n",
        "y entregue los cinco números de Tukey: bigote inferior, primer cuartil, mediana, tercer cuartil y bigote\n",
        "superior, para una lista, arreglo univariado de numpy o serie de pandas."
      ]
    },
    {
      "cell_type": "code",
      "metadata": {
        "id": "GmqIrJf-ZtU3"
      },
      "source": [
        "def fivenum(x, range = 1.5, nan_remove = True):\n",
        "  \"\"\"Devuelve los cinco números de Tukey (mínimo, bigote inferior, mediana,\n",
        "  bigote superior, maximo) para una lista, arreglo univariado de numpy o serie de pandas\"\"\"\n",
        "\n",
        "  if(isinstance(x, list)):\n",
        "        x = np.array(x)\n",
        "  try:\n",
        "        np.sum(x)\n",
        "  except TypeError :\n",
        "        print('Error: debe proveer una lista o un arreglo de sólo números')\n",
        "  if (nan_remove == True):\n",
        "        y = x[~np.isnan(x)]\n",
        "        q1 = np.percentile(y, 25)\n",
        "        q3 = np.percentile(y,75)\n",
        "        md = np.median(y)\n",
        "        RI = q3-q1\n",
        "        lower_whisker = q1 - 1.5 * RI\n",
        "        upper_whisker = q3 + 1.5 * RI\n",
        "        lower_whisker = np.max([lower_whisker, np.min(y)])\n",
        "        upper_whisker = np.min([upper_whisker, np.max(y)])\n",
        "\n",
        "  else:\n",
        "        q1 = np.percentile(x, 25)\n",
        "        q3 = np.percentile(x,75)\n",
        "        md = np.median(x)\n",
        "        RI = q3-q1\n",
        "        lower_whisker = q1 - 1.5 * RI\n",
        "        upper_whisker = q3 + 1.5 * RI\n",
        "        lower_whisker = np.max([lower_whisker, np.min(x)])\n",
        "        upper_whisker = np.min([upper_whisker, np.max(x)])\n",
        "\n",
        "  salida = np.array([lower_whisker, q1, md, q3, upper_whisker])\n",
        "  return [salida]"
      ],
      "execution_count": 16,
      "outputs": []
    },
    {
      "cell_type": "markdown",
      "metadata": {
        "id": "Re6J4CdSce0g"
      },
      "source": [
        "Se cargan los datos para el ejemplo:"
      ]
    },
    {
      "cell_type": "code",
      "metadata": {
        "id": "fW6bWi19cUnf"
      },
      "source": [
        "iris = datasets.load_iris()\n",
        "iris_df = pd.DataFrame(iris.data, columns=iris.feature_names)\n",
        "iris_df['target'] = iris['target']\n",
        "iris_df.columns = ['sepal_length', 'sepal_width', 'petal_length',\n",
        "'petal_width', 'species']"
      ],
      "execution_count": 25,
      "outputs": []
    },
    {
      "cell_type": "markdown",
      "metadata": {
        "id": "ROaZnSWYccik"
      },
      "source": [
        "Se calculan los 5 números de Tukey y se guardan en la variable fnums:"
      ]
    },
    {
      "cell_type": "code",
      "metadata": {
        "colab": {
          "base_uri": "https://localhost:8080/"
        },
        "id": "5bbJxxX4cZ63",
        "outputId": "e8ad6de2-77c5-404d-dda0-4a27abc0752a"
      },
      "source": [
        "fnums = fivenum(iris_df.sepal_width)\n",
        "fnums"
      ],
      "execution_count": 63,
      "outputs": [
        {
          "output_type": "execute_result",
          "data": {
            "text/plain": [
              "[array([2.05, 2.8 , 3.  , 3.3 , 4.05])]"
            ]
          },
          "metadata": {
            "tags": []
          },
          "execution_count": 63
        }
      ]
    },
    {
      "cell_type": "code",
      "metadata": {
        "colab": {
          "base_uri": "https://localhost:8080/"
        },
        "id": "57iT06UxdGbl",
        "outputId": "6e531bca-ec72-4c96-a3f5-e3a7913993f5"
      },
      "source": [
        "iris_df['outlier_sw'] = iris_df['sepal_width'].apply(lambda x: 'outlier' if (x < fnums[0][0]) | (x > fnums[0][4]) else 'no_outlier')\n",
        "iris_df.outlier_sw.value_counts()"
      ],
      "execution_count": 64,
      "outputs": [
        {
          "output_type": "execute_result",
          "data": {
            "text/plain": [
              "no_outlier    146\n",
              "outlier         4\n",
              "Name: outlier_sw, dtype: int64"
            ]
          },
          "metadata": {
            "tags": []
          },
          "execution_count": 64
        }
      ]
    },
    {
      "cell_type": "markdown",
      "metadata": {
        "id": "qcfv_-7YdJSX"
      },
      "source": [
        "Ejemplo de una variable sesgada.\n",
        "\n",
        "Detectar los outliers de la variable Income de base de datos de empresas Lucy."
      ]
    },
    {
      "cell_type": "code",
      "metadata": {
        "colab": {
          "base_uri": "https://localhost:8080/",
          "height": 265
        },
        "id": "zHIN4z2_dKeH",
        "outputId": "6be3eca3-e513-4d59-92d8-e3fce1275882"
      },
      "source": [
        "Lucy = pd.read_csv(\"Lucy.csv\")\n",
        "Lucy.Income.hist()\n",
        "plt.show()"
      ],
      "execution_count": 66,
      "outputs": [
        {
          "output_type": "display_data",
          "data": {
            "image/png": "[encoded data removed]",
            "text/plain": [
              "<Figure size 432x288 with 1 Axes>"
            ]
          },
          "metadata": {
            "tags": [],
            "needs_background": "light"
          }
        }
      ]
    },
    {
      "cell_type": "markdown",
      "metadata": {
        "id": "olXqUaXdddrO"
      },
      "source": [
        "Se evidencia que la distribución del ingreso es muy asimétrica a la derecha, por lo tanto se aplica la transformación de Box-Cox y se almacena en la variable Income_bc:"
      ]
    },
    {
      "cell_type": "code",
      "metadata": {
        "colab": {
          "base_uri": "https://localhost:8080/",
          "height": 204
        },
        "id": "Ya1t1l8Nde9s",
        "outputId": "5348f640-18ce-4f24-80f4-1c75005513d4"
      },
      "source": [
        "# (Dupla: arreglo de valores transformados y lambda)\n",
        "y_income_bc, fitted_lambda_income = stats.boxcox(Lucy.Income)\n",
        "Lucy['Income_bc'] = y_income_bc\n",
        "Lucy.head()"
      ],
      "execution_count": 67,
      "outputs": [
        {
          "output_type": "execute_result",
          "data": {
            "text/html": [
              "<div>\n",
              "<style scoped>\n",
              "    .dataframe tbody tr th:only-of-type {\n",
              "        vertical-align: middle;\n",
              "    }\n",
              "\n",
              "    .dataframe tbody tr th {\n",
              "        vertical-align: top;\n",
              "    }\n",
              "\n",
              "    .dataframe thead th {\n",
              "        text-align: right;\n",
              "    }\n",
              "</style>\n",
              "<table border=\"1\" class=\"dataframe\">\n",
              "  <thead>\n",
              "    <tr style=\"text-align: right;\">\n",
              "      <th></th>\n",
              "      <th>ID</th>\n",
              "      <th>Ubication</th>\n",
              "      <th>Level</th>\n",
              "      <th>Zone</th>\n",
              "      <th>Income</th>\n",
              "      <th>Employees</th>\n",
              "      <th>Taxes</th>\n",
              "      <th>SPAM</th>\n",
              "      <th>Income_bc</th>\n",
              "    </tr>\n",
              "  </thead>\n",
              "  <tbody>\n",
              "    <tr>\n",
              "      <th>0</th>\n",
              "      <td>AB001</td>\n",
              "      <td>c1k1</td>\n",
              "      <td>Small</td>\n",
              "      <td>A</td>\n",
              "      <td>281</td>\n",
              "      <td>41</td>\n",
              "      <td>3.0</td>\n",
              "      <td>no</td>\n",
              "      <td>18.293605</td>\n",
              "    </tr>\n",
              "    <tr>\n",
              "      <th>1</th>\n",
              "      <td>AB002</td>\n",
              "      <td>c1k2</td>\n",
              "      <td>Small</td>\n",
              "      <td>A</td>\n",
              "      <td>329</td>\n",
              "      <td>19</td>\n",
              "      <td>4.0</td>\n",
              "      <td>yes</td>\n",
              "      <td>19.521134</td>\n",
              "    </tr>\n",
              "    <tr>\n",
              "      <th>2</th>\n",
              "      <td>AB003</td>\n",
              "      <td>c1k3</td>\n",
              "      <td>Small</td>\n",
              "      <td>A</td>\n",
              "      <td>405</td>\n",
              "      <td>68</td>\n",
              "      <td>7.0</td>\n",
              "      <td>no</td>\n",
              "      <td>21.248675</td>\n",
              "    </tr>\n",
              "    <tr>\n",
              "      <th>3</th>\n",
              "      <td>AB004</td>\n",
              "      <td>c1k4</td>\n",
              "      <td>Small</td>\n",
              "      <td>A</td>\n",
              "      <td>360</td>\n",
              "      <td>89</td>\n",
              "      <td>5.0</td>\n",
              "      <td>no</td>\n",
              "      <td>20.253834</td>\n",
              "    </tr>\n",
              "    <tr>\n",
              "      <th>4</th>\n",
              "      <td>AB005</td>\n",
              "      <td>c1k5</td>\n",
              "      <td>Small</td>\n",
              "      <td>A</td>\n",
              "      <td>391</td>\n",
              "      <td>91</td>\n",
              "      <td>7.0</td>\n",
              "      <td>yes</td>\n",
              "      <td>20.947118</td>\n",
              "    </tr>\n",
              "  </tbody>\n",
              "</table>\n",
              "</div>"
            ],
            "text/plain": [
              "      ID Ubication  Level Zone  Income  Employees  Taxes SPAM  Income_bc\n",
              "0  AB001      c1k1  Small    A     281         41    3.0   no  18.293605\n",
              "1  AB002      c1k2  Small    A     329         19    4.0  yes  19.521134\n",
              "2  AB003      c1k3  Small    A     405         68    7.0   no  21.248675\n",
              "3  AB004      c1k4  Small    A     360         89    5.0   no  20.253834\n",
              "4  AB005      c1k5  Small    A     391         91    7.0  yes  20.947118"
            ]
          },
          "metadata": {
            "tags": []
          },
          "execution_count": 67
        }
      ]
    },
    {
      "cell_type": "markdown",
      "metadata": {
        "id": "uvgqodUQdhXt"
      },
      "source": [
        "El valor de lambda considerado por parte de la función stats.boxcox es:"
      ]
    },
    {
      "cell_type": "code",
      "metadata": {
        "colab": {
          "base_uri": "https://localhost:8080/"
        },
        "id": "OJ38U_c5djdU",
        "outputId": "cf5054ef-c509-4561-d6dd-86aeba5fd36f"
      },
      "source": [
        "fitted_lambda_income"
      ],
      "execution_count": 68,
      "outputs": [
        {
          "output_type": "execute_result",
          "data": {
            "text/plain": [
              "0.3589008867008163"
            ]
          },
          "metadata": {
            "tags": []
          },
          "execution_count": 68
        }
      ]
    },
    {
      "cell_type": "markdown",
      "metadata": {
        "id": "hAktslwDdmEM"
      },
      "source": [
        "Se guardan los cinco números de Tukey en la variable fn_income_bc:"
      ]
    },
    {
      "cell_type": "code",
      "metadata": {
        "colab": {
          "base_uri": "https://localhost:8080/"
        },
        "id": "fr6q0ONgdoEu",
        "outputId": "2c643542-7f4b-4ae8-b8c8-0aa4034171b0"
      },
      "source": [
        "fn_income_bc = fivenum(Lucy.Income_bc)\n",
        "fn_income_bc"
      ],
      "execution_count": 69,
      "outputs": [
        {
          "output_type": "execute_result",
          "data": {
            "text/plain": [
              "[array([ 5.34786971, 16.8315778 , 20.92531509, 24.48738319, 35.97109128])]"
            ]
          },
          "metadata": {
            "tags": []
          },
          "execution_count": 69
        }
      ]
    },
    {
      "cell_type": "markdown",
      "metadata": {
        "id": "S6YfpGjOdpzk"
      },
      "source": [
        "Se crea una nueva variable denominada outlier_Income donde se almacena si es un outlier. Se imprime el\n",
        "conteo."
      ]
    },
    {
      "cell_type": "code",
      "metadata": {
        "colab": {
          "base_uri": "https://localhost:8080/"
        },
        "id": "N1ir5OnBdral",
        "outputId": "a89499e2-d8bd-4937-97d2-9e1ac5fefa3d"
      },
      "source": [
        "Lucy['outlier_Income'] = Lucy['Income_bc'].apply(lambda x: 'outlier' if (x < fn_income_bc[0][0]) | (x > fn_income_bc[0][4]) else 'no_outlier')\n",
        "Lucy.outlier_Income.value_counts()"
      ],
      "execution_count": 73,
      "outputs": [
        {
          "output_type": "execute_result",
          "data": {
            "text/plain": [
              "no_outlier    2379\n",
              "outlier         17\n",
              "Name: outlier_Income, dtype: int64"
            ]
          },
          "metadata": {
            "tags": []
          },
          "execution_count": 73
        }
      ]
    }
  ]
}